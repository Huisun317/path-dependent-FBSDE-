{
 "cells": [
  {
   "cell_type": "code",
   "execution_count": 1,
   "id": "830a6718",
   "metadata": {},
   "outputs": [],
   "source": [
    "import numpy as np\n",
    "import matplotlib.pyplot as plt\n",
    "%matplotlib inline \n",
    "from scipy.stats import norm\n",
    "import time as ttt\n",
    "import iisignature as iisig\n",
    "from tqdm import *\n",
    "from einops import rearrange"
   ]
  },
  {
   "cell_type": "code",
   "execution_count": 2,
   "id": "90b91c89",
   "metadata": {},
   "outputs": [],
   "source": [
    "import torch\n",
    "import torch.nn as nn\n",
    "import pandas as pd "
   ]
  },
  {
   "cell_type": "raw",
   "id": "210fa833",
   "metadata": {},
   "source": [
    "device = \"cuda\" if torch.cuda.is_available() else \"cpu\"\n",
    "print(\"Using {} device\".format(device))\n",
    "\n",
    "data_type=torch.float32"
   ]
  },
  {
   "cell_type": "code",
   "execution_count": 3,
   "id": "52f3bd37",
   "metadata": {},
   "outputs": [],
   "source": [
    "x0 = 1.0 # initial condition\n",
    "sigma = 1 # volatility\n",
    "mu = 0.02\n",
    "segs=20\n",
    "r = 0.01 # risk free rate\n",
    "batch_size = 1000 # batch size\n",
    "steps=5000\n",
    "T = 1 # maturity\n",
    "dt = T/steps # mesh size\n",
    "true = 0.5828174603130847# true option price\n",
    "\n",
    "dt = T/steps # mesh size\n",
    "dt_new = T/segs # new mesh after shrinkage\n",
    "level = 3 # truncation level"
   ]
  },
  {
   "cell_type": "code",
   "execution_count": 4,
   "id": "01332aa2",
   "metadata": {},
   "outputs": [],
   "source": [
    "batch_in=100\n",
    "MOMENTUM = 0.99\n",
    "EPSILON = 1e-6\n",
    "import warnings\n",
    "warnings.filterwarnings(\"ignore\")"
   ]
  },
  {
   "cell_type": "code",
   "execution_count": 5,
   "id": "cfca5b7a",
   "metadata": {},
   "outputs": [],
   "source": [
    "def create_stock2(x0,r,sigma,T,steps,n_path,dW):\n",
    "    dt=T/steps; \n",
    "    sqrt_dt=np.sqrt(dt); \n",
    "    s_vec=[]; w_vec=[]; \n",
    "    w_vec.append(np.ones(n_path)*1e-6)\n",
    "    s_vec.append(np.ones(n_path)*1.0)\n",
    "    for i in range(steps): \n",
    "        w_vec.append(dW[:,i]) \n",
    "        s_vectemp=s_vec[-1]+ r*s_vec[-1]*dt+ w_vec[-1]*s_vec[-1]*sigma\n",
    "        s_vec.append(s_vectemp)\n",
    "    wvec=np.transpose(np.array(w_vec))\n",
    "    BM_path=np.cumsum(wvec,axis=1)\n",
    "    S_path=np.transpose(np.array(s_vec))\n",
    "    return BM_path, S_path\n",
    "\n",
    "def jointime(T,path): \n",
    "    n_path, steps=path.shape\n",
    "    dt=T/(steps-1); \n",
    "    \n",
    "    times=np.arange(0,T,dt)\n",
    "    times=np.append(times,T); \n",
    "    times_vec=np.tile(times,[2,1]); \n",
    "    times_vec=np.transpose(times_vec)\n",
    "    times_vec=np.tile(times_vec,[n_path,1,1])\n",
    "    times_vec[:,:,1]=path\n",
    "    return times_vec\n",
    "\n",
    "def ComputeMultiLevelSig(path, number_of_segment, depth):\n",
    "    n_batch, nsteps,n_path = path.shape\n",
    "    t_vec = np.arange(0, nsteps-1, int(nsteps / number_of_segment))\n",
    "    t_vec = np.append(t_vec, nsteps-1)\n",
    "    MultiLevelSig = []\n",
    "    \n",
    "   # path_class=signatory.Path(path,depth);\n",
    "    ll=iisig.sig(np.expand_dims(path[:,0,:],axis=1),depth)\n",
    "    MultiLevelSig.append(ll)\n",
    "    \n",
    "    for i in range(len(t_vec)-1):    \n",
    "        ## Notice that we only use the signature of the concatenation of time and space.\n",
    "        MultiLevelSig.append(iisig.sig(path[:,0:t_vec[i+1]+1,:],depth)) ##if not\n",
    "        #MultiLevelSig.append(path_class.signature(t_vec[i],t_vec[i+1]+1))\n",
    "    MultiLevelSig=np.stack(MultiLevelSig)  \n",
    "    MultiLevelSig=rearrange(MultiLevelSig, 'b c h -> c b h') \n",
    "    return MultiLevelSig"
   ]
  },
  {
   "cell_type": "code",
   "execution_count": 6,
   "id": "c1dafeaa",
   "metadata": {},
   "outputs": [],
   "source": [
    "def generate_samples(batch_in=100):\n",
    "    dW = np.sqrt(dt)*np.random.normal(size=(batch_in, steps))\n",
    "    pth2=create_stock2(x0,r,sigma,T,steps,batch_in,dW)\n",
    "    BM_timePath=jointime(T,pth2[0]); \n",
    "    S_timePath=jointime(T,pth2[1]);\n",
    "    sigs=ComputeMultiLevelSig(S_timePath, 20, 3)\n",
    "    selection = np.linspace(0,steps, segs+1, dtype = np.int)\n",
    "\n",
    "    BM_seg=BM_timePath[:,selection,1]\n",
    "    dW=BM_seg[:,1:]-BM_seg[:,:-1]\n",
    "    dW=np.expand_dims(dW,axis=2)\n",
    "\n",
    "    dW=torch.tensor(dW,dtype=torch.float32)\n",
    "    sigs=torch.tensor(sigs,dtype=torch.float32)\n",
    "\n",
    "    ss=S_timePath[:,:,1]\n",
    "    YT=ss[:,-1]-np.min(ss,axis=1)\n",
    "    YT=torch.tensor(YT,dtype=torch.float32)\n",
    "    YT=YT.unsqueeze(axis=1)\n",
    "    return sigs, dW, YT"
   ]
  },
  {
   "cell_type": "code",
   "execution_count": 7,
   "id": "b2983e50",
   "metadata": {},
   "outputs": [],
   "source": [
    "class Config(object):\n",
    "    n_layer = 4\n",
    "    batch_size = 1024\n",
    "    valid_size = 1024\n",
    "    \n",
    "    dim=14; \n",
    "    Ntime=20; \n",
    "    delta=1/Ntime\n",
    "    sqrt_deltaT=np.sqrt(1.0/Ntime); \n",
    "    lam=1; \n",
    "\n",
    "    logging_frequency = 100\n",
    "    verbose = True\n",
    "    y_init_range = [0, 1]\n",
    "    \n",
    "    num_hiddens = [dim,64,64,1] ## 256 ,256\n",
    "    \n",
    "def get_config(name):\n",
    "    try:\n",
    "        return globals()[name]\n",
    "    except KeyError:\n",
    "        raise KeyError(\"config not defined.\")\n",
    "\n",
    "cfg=get_config('Config')"
   ]
  },
  {
   "cell_type": "code",
   "execution_count": 8,
   "id": "95679d2c",
   "metadata": {},
   "outputs": [],
   "source": [
    "class Dense(nn.Module): \n",
    "    def __init__(self,cin, cout, batch_norm=False, activate=True): \n",
    "        super(Dense,self).__init__()\n",
    "        self.cin=cin; \n",
    "        self.cout=cout; \n",
    "        self.activate=activate; \n",
    "        \n",
    "        self.linear=nn.Linear(self.cin,self.cout) #The linear layer\n",
    "        #BatchNorm1d: it requires the input to be a correct size\n",
    "        if batch_norm: \n",
    "            self.bn=nn.BatchNorm1d(cout,eps=EPSILON,momentum=MOMENTUM)\n",
    "        else: \n",
    "            self.bn=None\n",
    "      #  nn.init.normal_(self.linear.weight,std=5.0/np.sqrt(cin+cout))\n",
    "        # This is the He initialization\n",
    "        \n",
    "    def forward(self,x): \n",
    "        x=self.linear(x)\n",
    "        if self.bn is not None:\n",
    "            x=self.bn(x)\n",
    "        if self.activate:\n",
    "            x=torch.tanh(x)\n",
    "        return x \n",
    "    \n",
    "class FFN(nn.Module):\n",
    "    def __init__(self, config):\n",
    "        super(FFN,self).__init__()\n",
    "        self.config=config\n",
    "        \n",
    "        self.bn=nn.BatchNorm1d(config.num_hiddens[0],eps=EPSILON,momentum=MOMENTUM) ## So there is batch norm no problem\n",
    "        # range(1,5): 1,2,3,4\n",
    "        self.layers=[Dense(config.num_hiddens[i-1],config.num_hiddens[i]) for i in range(1, len(config.num_hiddens)-1)]\n",
    "        self.layers+=[Dense(config.num_hiddens[-2], config.num_hiddens[-1],activate=False)]\n",
    "        self.layers=nn.Sequential(*self.layers)\n",
    "    \n",
    "    def forward(self,x):\n",
    "      #  x=self.bn(x)\n",
    "        x=self.layers(x)\n",
    "        return x \n",
    "    \n",
    "class Lookback_PPDE_Backward(nn.Module):\n",
    "    def __init__(self,cfg): \n",
    "        super(Lookback_PPDE_Backward,self).__init__()\n",
    "        self.cfg=cfg\n",
    "        self.Ntime=self.cfg.Ntime \n",
    "     #   self.Y0=Parameter(torch.rand(100,1))\n",
    "        #self.model=RNN2(input_size=14, output_size=1, hidden_size=128, num_layers=1)\n",
    "        self.mList=nn.ModuleList([FFN(self.cfg) for _ in range(self.Ntime)])\n",
    "        \n",
    "    def forward(self,batch_sig,batch_dW,batch_YT): \n",
    "   #     Z_path=self.model(batch_sig)\n",
    "        Y=batch_YT\n",
    "        for i in np.arange(segs-1,-1, -1):\n",
    "            Y=Y-Y*r*T/segs-sigma*self.mList[i](batch_sig[:,i,:])*batch_dW[:,i,:]\n",
    "        return Y"
   ]
  },
  {
   "cell_type": "code",
   "execution_count": 9,
   "id": "3fe0d5a9",
   "metadata": {},
   "outputs": [],
   "source": [
    "def loss_var(x):\n",
    "    temp=torch.var(x)\n",
    "    return temp"
   ]
  },
  {
   "cell_type": "code",
   "execution_count": 10,
   "id": "02e7db3c",
   "metadata": {},
   "outputs": [],
   "source": [
    "import torch.optim as optim\n",
    "from torch.nn import Parameter\n",
    "import math\n",
    "model_PPDE_bw=Lookback_PPDE_Backward(cfg)\n",
    "model_PPDE_bw#.to(device)\n",
    "optimizer=optim.Adam(model_PPDE_bw.parameters(),lr=1e-3)\n",
    "grad_clip=0.1\n",
    "#scheduler=torch.optim.lr_scheduler.StepLR(optimizer, step_size=80, gamma=0.1)"
   ]
  },
  {
   "cell_type": "code",
   "execution_count": 11,
   "id": "1b025ec9",
   "metadata": {},
   "outputs": [],
   "source": [
    "y0_mean=[];\n",
    "loss_vec=[];"
   ]
  },
  {
   "cell_type": "markdown",
   "id": "53f73d92",
   "metadata": {},
   "source": [
    "## 0.5823 -- 0.5784 -- 0.5862"
   ]
  },
  {
   "cell_type": "code",
   "execution_count": 12,
   "id": "9e22793f",
   "metadata": {},
   "outputs": [
    {
     "name": "stdout",
     "output_type": "stream",
     "text": [
      "Iter: 0 The mean Y0 is 0.527325 Variance is: 0.9707741\n",
      "Iter: 1 The mean Y0 is 0.54906803 Variance is: 0.98697454\n",
      "Iter: 2 The mean Y0 is 0.66612726 Variance is: 2.8840706\n",
      "Iter: 3 The mean Y0 is 0.55211306 Variance is: 0.6277847\n",
      "Iter: 4 The mean Y0 is 0.52717966 Variance is: 0.6581896\n",
      "Iter: 5 The mean Y0 is 0.56897074 Variance is: 0.6982603\n",
      "Iter: 6 The mean Y0 is 0.5390868 Variance is: 0.6883007\n",
      "Iter: 7 The mean Y0 is 0.5343724 Variance is: 0.43374258\n",
      "Iter: 8 The mean Y0 is 0.54068434 Variance is: 0.5365417\n",
      "Iter: 9 The mean Y0 is 0.572184 Variance is: 0.7383763\n",
      "Iter: 10 The mean Y0 is 0.63440394 Variance is: 1.3317533\n",
      "Iter: 11 The mean Y0 is 0.591115 Variance is: 0.8487527\n",
      "Iter: 12 The mean Y0 is 0.57090783 Variance is: 0.4332906\n",
      "Iter: 13 The mean Y0 is 0.5604803 Variance is: 0.9869259\n",
      "Iter: 14 The mean Y0 is 0.5787457 Variance is: 0.45177397\n",
      "Iter: 15 The mean Y0 is 0.56740904 Variance is: 0.36447355\n",
      "Iter: 16 The mean Y0 is 0.5753286 Variance is: 0.33024746\n",
      "Iter: 17 The mean Y0 is 0.5956144 Variance is: 0.361738\n",
      "Iter: 18 The mean Y0 is 0.5874746 Variance is: 0.4495132\n",
      "Iter: 19 The mean Y0 is 0.6071659 Variance is: 0.45742851\n",
      "Iter: 20 The mean Y0 is 0.557166 Variance is: 0.18961976\n",
      "Iter: 21 The mean Y0 is 0.5595266 Variance is: 0.16551392\n",
      "Iter: 22 The mean Y0 is 0.5751817 Variance is: 0.34148976\n",
      "Iter: 23 The mean Y0 is 0.5900777 Variance is: 0.28732905\n",
      "Iter: 24 The mean Y0 is 0.576022 Variance is: 0.22548303\n",
      "Iter: 25 The mean Y0 is 0.5753812 Variance is: 0.15523563\n",
      "Iter: 26 The mean Y0 is 0.56998664 Variance is: 0.12970476\n",
      "Iter: 27 The mean Y0 is 0.5856098 Variance is: 0.28953448\n",
      "Iter: 28 The mean Y0 is 0.5812583 Variance is: 0.112315506\n",
      "Iter: 29 The mean Y0 is 0.57892555 Variance is: 0.1731695\n",
      "Iter: 30 The mean Y0 is 0.57416177 Variance is: 0.118506774\n",
      "Iter: 31 The mean Y0 is 0.5643796 Variance is: 0.15808226\n",
      "Iter: 32 The mean Y0 is 0.55856055 Variance is: 0.11101018\n",
      "Iter: 33 The mean Y0 is 0.566563 Variance is: 0.11657073\n",
      "Iter: 34 The mean Y0 is 0.57493836 Variance is: 0.13627677\n",
      "Iter: 35 The mean Y0 is 0.5824109 Variance is: 0.22610714\n",
      "Iter: 36 The mean Y0 is 0.5865268 Variance is: 0.21494181\n",
      "Iter: 37 The mean Y0 is 0.5672031 Variance is: 0.09281996\n",
      "Iter: 38 The mean Y0 is 0.59304136 Variance is: 0.27663958\n",
      "Iter: 39 The mean Y0 is 0.5792808 Variance is: 0.1444551\n",
      "Iter: 40 The mean Y0 is 0.5970031 Variance is: 0.12874505\n",
      "Iter: 41 The mean Y0 is 0.5804738 Variance is: 0.14974175\n",
      "Iter: 42 The mean Y0 is 0.55845636 Variance is: 0.062248047\n",
      "Iter: 43 The mean Y0 is 0.5773765 Variance is: 0.08713571\n",
      "Iter: 44 The mean Y0 is 0.5722723 Variance is: 0.07651484\n",
      "Iter: 45 The mean Y0 is 0.571885 Variance is: 0.1618325\n",
      "Iter: 46 The mean Y0 is 0.57059634 Variance is: 0.10059835\n",
      "Iter: 47 The mean Y0 is 0.5708285 Variance is: 0.07974974\n",
      "Iter: 48 The mean Y0 is 0.5816238 Variance is: 0.08872925\n",
      "Iter: 49 The mean Y0 is 0.5813949 Variance is: 0.068165414\n",
      "Iter: 50 The mean Y0 is 0.557435 Variance is: 0.065278806\n",
      "Iter: 51 The mean Y0 is 0.5945254 Variance is: 0.11725483\n",
      "Iter: 52 The mean Y0 is 0.58514094 Variance is: 0.17495365\n",
      "Iter: 53 The mean Y0 is 0.5909145 Variance is: 0.10033447\n",
      "Iter: 54 The mean Y0 is 0.5747236 Variance is: 0.10411958\n",
      "Iter: 55 The mean Y0 is 0.5729212 Variance is: 0.06733763\n",
      "Iter: 56 The mean Y0 is 0.5748493 Variance is: 0.0796204\n",
      "Iter: 57 The mean Y0 is 0.5914276 Variance is: 0.43085715\n",
      "Iter: 58 The mean Y0 is 0.5719951 Variance is: 0.05365831\n",
      "Iter: 59 The mean Y0 is 0.59009403 Variance is: 0.1656211\n",
      "Iter: 60 The mean Y0 is 0.5702395 Variance is: 0.058078215\n",
      "Iter: 61 The mean Y0 is 0.57684296 Variance is: 0.06334758\n",
      "Iter: 62 The mean Y0 is 0.57043153 Variance is: 0.048914675\n",
      "Iter: 63 The mean Y0 is 0.5748276 Variance is: 0.054922186\n",
      "Iter: 64 The mean Y0 is 0.58572215 Variance is: 0.10549948\n",
      "Iter: 65 The mean Y0 is 0.58368504 Variance is: 0.058192726\n",
      "Iter: 66 The mean Y0 is 0.57055056 Variance is: 0.06419157\n",
      "Iter: 67 The mean Y0 is 0.5734976 Variance is: 0.06828695\n",
      "Iter: 68 The mean Y0 is 0.58664304 Variance is: 0.07294162\n",
      "Iter: 69 The mean Y0 is 0.58200073 Variance is: 0.09947487\n",
      "Iter: 70 The mean Y0 is 0.58160406 Variance is: 0.080247104\n",
      "Iter: 71 The mean Y0 is 0.5687383 Variance is: 0.04296872\n",
      "Iter: 72 The mean Y0 is 0.58326447 Variance is: 0.0733699\n",
      "Iter: 73 The mean Y0 is 0.5743487 Variance is: 0.061000425\n",
      "Iter: 74 The mean Y0 is 0.58533007 Variance is: 0.23173985\n",
      "Iter: 75 The mean Y0 is 0.57936287 Variance is: 0.1547242\n",
      "Iter: 76 The mean Y0 is 0.5671863 Variance is: 0.066873275\n",
      "Iter: 77 The mean Y0 is 0.57699835 Variance is: 0.06106073\n",
      "Iter: 78 The mean Y0 is 0.57660943 Variance is: 0.0702597\n",
      "Iter: 79 The mean Y0 is 0.5795186 Variance is: 0.0813627\n",
      "Iter: 80 The mean Y0 is 0.5740979 Variance is: 0.07088605\n",
      "Iter: 81 The mean Y0 is 0.58064485 Variance is: 0.087260015\n",
      "Iter: 82 The mean Y0 is 0.58420736 Variance is: 0.13318413\n",
      "Iter: 83 The mean Y0 is 0.58699656 Variance is: 0.13772874\n",
      "Iter: 84 The mean Y0 is 0.61117136 Variance is: 0.42405796\n",
      "Iter: 85 The mean Y0 is 0.5746795 Variance is: 0.06639557\n",
      "Iter: 86 The mean Y0 is 0.5763721 Variance is: 0.07553839\n",
      "Iter: 87 The mean Y0 is 0.6117054 Variance is: 1.4873258\n",
      "Iter: 88 The mean Y0 is 0.567125 Variance is: 0.047323614\n",
      "Iter: 89 The mean Y0 is 0.5827884 Variance is: 0.06210212\n",
      "Iter: 90 The mean Y0 is 0.5788227 Variance is: 0.08176499\n",
      "Iter: 91 The mean Y0 is 0.57475233 Variance is: 0.075630195\n",
      "Iter: 92 The mean Y0 is 0.5742052 Variance is: 0.085445195\n",
      "Iter: 93 The mean Y0 is 0.60350424 Variance is: 0.45322594\n",
      "Iter: 94 The mean Y0 is 0.5797591 Variance is: 0.058777317\n",
      "Iter: 95 The mean Y0 is 0.5748229 Variance is: 0.0700234\n",
      "Iter: 96 The mean Y0 is 0.60028183 Variance is: 0.21939012\n",
      "Iter: 97 The mean Y0 is 0.57098293 Variance is: 0.044671018\n",
      "Iter: 98 The mean Y0 is 0.5826156 Variance is: 0.17455834\n",
      "Iter: 99 The mean Y0 is 0.56166327 Variance is: 0.06181415\n",
      "Iter: 100 The mean Y0 is 0.5600987 Variance is: 0.08120205\n",
      "Iter: 101 The mean Y0 is 0.5827066 Variance is: 0.09576245\n",
      "Iter: 102 The mean Y0 is 0.5626469 Variance is: 0.06180791\n",
      "Iter: 103 The mean Y0 is 0.5672219 Variance is: 0.050157566\n",
      "Iter: 104 The mean Y0 is 0.5664018 Variance is: 0.054250676\n",
      "Iter: 105 The mean Y0 is 0.5883982 Variance is: 0.07207675\n",
      "Iter: 106 The mean Y0 is 0.5644985 Variance is: 0.07266767\n",
      "Iter: 107 The mean Y0 is 0.5876436 Variance is: 0.059150707\n",
      "Iter: 108 The mean Y0 is 0.5763201 Variance is: 0.06339577\n",
      "Iter: 109 The mean Y0 is 0.5783999 Variance is: 0.11565435\n",
      "Iter: 110 The mean Y0 is 0.5673829 Variance is: 0.057375006\n",
      "Iter: 111 The mean Y0 is 0.57946604 Variance is: 0.05194377\n",
      "Iter: 112 The mean Y0 is 0.5870571 Variance is: 0.053783167\n",
      "Iter: 113 The mean Y0 is 0.5813704 Variance is: 0.06612019\n",
      "Iter: 114 The mean Y0 is 0.6176311 Variance is: 0.4449621\n",
      "Iter: 115 The mean Y0 is 0.5891154 Variance is: 0.05904008\n",
      "Iter: 116 The mean Y0 is 0.5862767 Variance is: 0.14201467\n",
      "Iter: 117 The mean Y0 is 0.58595586 Variance is: 0.20803563\n",
      "Iter: 118 The mean Y0 is 0.57362354 Variance is: 0.045278464\n",
      "Iter: 119 The mean Y0 is 0.5847628 Variance is: 0.050915726\n",
      "Iter: 120 The mean Y0 is 0.57991713 Variance is: 0.10188998\n",
      "Iter: 121 The mean Y0 is 0.5904313 Variance is: 0.12989469\n",
      "Iter: 122 The mean Y0 is 0.5894645 Variance is: 0.2246857\n",
      "Iter: 123 The mean Y0 is 0.5647943 Variance is: 0.048663348\n",
      "Iter: 124 The mean Y0 is 0.5762198 Variance is: 0.055466145\n",
      "Iter: 125 The mean Y0 is 0.56922483 Variance is: 0.12278875\n",
      "Iter: 126 The mean Y0 is 0.5804783 Variance is: 0.072076574\n",
      "Iter: 127 The mean Y0 is 0.5755015 Variance is: 0.08133244\n",
      "Iter: 128 The mean Y0 is 0.5891526 Variance is: 0.4210897\n",
      "Iter: 129 The mean Y0 is 0.57840586 Variance is: 0.05650333\n",
      "Iter: 130 The mean Y0 is 0.5843562 Variance is: 0.106719956\n",
      "Iter: 131 The mean Y0 is 0.57692134 Variance is: 0.07751577\n",
      "Iter: 132 The mean Y0 is 0.5677166 Variance is: 0.05808896\n",
      "Iter: 133 The mean Y0 is 0.58037 Variance is: 0.0919699\n",
      "Iter: 134 The mean Y0 is 0.5927274 Variance is: 0.11503046\n",
      "Iter: 135 The mean Y0 is 0.60785896 Variance is: 0.8786336\n",
      "Iter: 136 The mean Y0 is 0.57717824 Variance is: 0.05952834\n",
      "Iter: 137 The mean Y0 is 0.578905 Variance is: 0.054380182\n",
      "Iter: 138 The mean Y0 is 0.58388245 Variance is: 0.060898572\n",
      "Iter: 139 The mean Y0 is 0.5694429 Variance is: 0.066470236\n"
     ]
    }
   ],
   "source": [
    "for i in range(140):\n",
    "    batch_x, batch_dw, batch_y =generate_samples(batch_in=1000)\n",
    "\n",
    "    x_temp=model_PPDE_bw(batch_x,batch_dw,batch_y)\n",
    "    loss_temp=loss_var(x_temp)\n",
    "    if grad_clip: \n",
    "        nn.utils.clip_grad_value_(model_PPDE_bw.parameters(), grad_clip)\n",
    "\n",
    "    optimizer.zero_grad()\n",
    "    loss_temp.backward()\n",
    "    optimizer.step()\n",
    "#   scheduler.step()\n",
    "    y0_val=x_temp.mean().cpu().detach().numpy()\n",
    "    loss_val=loss_temp.cpu().detach().numpy()\n",
    "    \n",
    "    y0_mean.append(y0_val)\n",
    "    loss_vec.append(loss_val)\n",
    "    \n",
    "    print(\"Iter:\", i, 'The mean Y0 is', y0_val , 'Variance is:' ,loss_val)"
   ]
  },
  {
   "cell_type": "code",
   "execution_count": 17,
   "id": "6ee1ff14",
   "metadata": {},
   "outputs": [],
   "source": [
    "y_pred=np.array(y0_mean)\n",
    "loss_var=np.array(loss_vec)\n",
    "iters=np.arange(0,len(y_pred),1)+1"
   ]
  },
  {
   "cell_type": "code",
   "execution_count": 18,
   "id": "ee85d268",
   "metadata": {},
   "outputs": [],
   "source": [
    "df=pd.DataFrame()\n",
    "df['iter']=iters\n",
    "df['y_pred']=y_pred\n",
    "df['loss_var']=loss_var"
   ]
  },
  {
   "cell_type": "code",
   "execution_count": 23,
   "id": "f883987f",
   "metadata": {},
   "outputs": [],
   "source": [
    "df.to_csv('eg1_trained_data/method2_2.csv')"
   ]
  },
  {
   "cell_type": "code",
   "execution_count": 24,
   "id": "9fb520f2",
   "metadata": {},
   "outputs": [
    {
     "data": {
      "text/plain": [
       "0.5796725153923035"
      ]
     },
     "execution_count": 24,
     "metadata": {},
     "output_type": "execute_result"
    }
   ],
   "source": [
    "start_idx=50\n",
    "df[start_idx:][df[start_idx:].loss_var<1.0].y_pred.mean()"
   ]
  },
  {
   "cell_type": "code",
   "execution_count": 50,
   "id": "9eb4cfc8",
   "metadata": {},
   "outputs": [
    {
     "data": {
      "text/plain": [
       "0.57885"
      ]
     },
     "execution_count": 50,
     "metadata": {},
     "output_type": "execute_result"
    }
   ],
   "source": [
    "np.mean(np.array([0.58-0,0.5784, 0.579, 0.578]))"
   ]
  },
  {
   "cell_type": "code",
   "execution_count": 51,
   "id": "2469ddad",
   "metadata": {},
   "outputs": [
    {
     "data": {
      "text/plain": [
       "0.0031063805304566592"
      ]
     },
     "execution_count": 51,
     "metadata": {},
     "output_type": "execute_result"
    }
   ],
   "source": [
    "np.std(np.array([0.5823,0.5784,0.5862, 0.579,0.578]))"
   ]
  },
  {
   "cell_type": "code",
   "execution_count": 52,
   "id": "b8cc06fc",
   "metadata": {},
   "outputs": [
    {
     "data": {
      "text/plain": [
       "(5.774, 5.7860000000000005)"
      ]
     },
     "execution_count": 52,
     "metadata": {},
     "output_type": "execute_result"
    }
   ],
   "source": [
    "5.78-2*0.003,5.78+2*0.003"
   ]
  },
  {
   "cell_type": "code",
   "execution_count": null,
   "id": "4b44d88a",
   "metadata": {},
   "outputs": [],
   "source": []
  },
  {
   "cell_type": "code",
   "execution_count": null,
   "id": "5695e9dc",
   "metadata": {},
   "outputs": [],
   "source": []
  },
  {
   "cell_type": "code",
   "execution_count": null,
   "id": "60df52d7",
   "metadata": {},
   "outputs": [],
   "source": []
  },
  {
   "cell_type": "code",
   "execution_count": null,
   "id": "566fa365",
   "metadata": {},
   "outputs": [],
   "source": []
  },
  {
   "cell_type": "code",
   "execution_count": null,
   "id": "08124d43",
   "metadata": {},
   "outputs": [],
   "source": []
  },
  {
   "cell_type": "code",
   "execution_count": null,
   "id": "23c31303",
   "metadata": {},
   "outputs": [],
   "source": []
  },
  {
   "cell_type": "code",
   "execution_count": null,
   "id": "531d034c",
   "metadata": {},
   "outputs": [],
   "source": []
  },
  {
   "cell_type": "code",
   "execution_count": null,
   "id": "fe2d469f",
   "metadata": {},
   "outputs": [],
   "source": []
  },
  {
   "cell_type": "code",
   "execution_count": null,
   "id": "827b906a",
   "metadata": {},
   "outputs": [],
   "source": []
  },
  {
   "cell_type": "code",
   "execution_count": null,
   "id": "a694610c",
   "metadata": {},
   "outputs": [],
   "source": []
  },
  {
   "cell_type": "code",
   "execution_count": null,
   "id": "bca5ad22",
   "metadata": {},
   "outputs": [],
   "source": []
  },
  {
   "cell_type": "code",
   "execution_count": null,
   "id": "8b076847",
   "metadata": {},
   "outputs": [],
   "source": []
  },
  {
   "cell_type": "code",
   "execution_count": null,
   "id": "eed0c82a",
   "metadata": {},
   "outputs": [],
   "source": []
  },
  {
   "cell_type": "code",
   "execution_count": null,
   "id": "8b58347a",
   "metadata": {},
   "outputs": [],
   "source": []
  },
  {
   "cell_type": "code",
   "execution_count": null,
   "id": "45057508",
   "metadata": {},
   "outputs": [],
   "source": []
  },
  {
   "cell_type": "code",
   "execution_count": null,
   "id": "35f89192",
   "metadata": {},
   "outputs": [],
   "source": []
  },
  {
   "cell_type": "code",
   "execution_count": null,
   "id": "645aed04",
   "metadata": {},
   "outputs": [],
   "source": []
  },
  {
   "cell_type": "code",
   "execution_count": null,
   "id": "494ddfa9",
   "metadata": {},
   "outputs": [],
   "source": []
  },
  {
   "cell_type": "code",
   "execution_count": null,
   "id": "cbb7adad",
   "metadata": {},
   "outputs": [],
   "source": []
  },
  {
   "cell_type": "code",
   "execution_count": null,
   "id": "68c9b3fa",
   "metadata": {},
   "outputs": [],
   "source": []
  },
  {
   "cell_type": "code",
   "execution_count": null,
   "id": "81fea0f6",
   "metadata": {},
   "outputs": [],
   "source": []
  },
  {
   "cell_type": "code",
   "execution_count": null,
   "id": "2decf7af",
   "metadata": {},
   "outputs": [],
   "source": []
  },
  {
   "cell_type": "code",
   "execution_count": null,
   "id": "10ec9a5a",
   "metadata": {},
   "outputs": [],
   "source": []
  },
  {
   "cell_type": "code",
   "execution_count": null,
   "id": "98c2d772",
   "metadata": {},
   "outputs": [],
   "source": []
  },
  {
   "cell_type": "code",
   "execution_count": null,
   "id": "6942b228",
   "metadata": {},
   "outputs": [],
   "source": []
  },
  {
   "cell_type": "code",
   "execution_count": null,
   "id": "fc875889",
   "metadata": {},
   "outputs": [],
   "source": []
  },
  {
   "cell_type": "code",
   "execution_count": null,
   "id": "b179873f",
   "metadata": {},
   "outputs": [],
   "source": []
  },
  {
   "cell_type": "code",
   "execution_count": null,
   "id": "2a57dc94",
   "metadata": {},
   "outputs": [],
   "source": []
  },
  {
   "cell_type": "code",
   "execution_count": null,
   "id": "b9f401dd",
   "metadata": {},
   "outputs": [],
   "source": []
  },
  {
   "cell_type": "code",
   "execution_count": null,
   "id": "39f61f85",
   "metadata": {},
   "outputs": [],
   "source": []
  },
  {
   "cell_type": "code",
   "execution_count": null,
   "id": "e241bec4",
   "metadata": {},
   "outputs": [],
   "source": []
  },
  {
   "cell_type": "code",
   "execution_count": null,
   "id": "2092f970",
   "metadata": {},
   "outputs": [],
   "source": []
  },
  {
   "cell_type": "code",
   "execution_count": null,
   "id": "6f411e05",
   "metadata": {},
   "outputs": [],
   "source": []
  },
  {
   "cell_type": "code",
   "execution_count": null,
   "id": "09a4793b",
   "metadata": {},
   "outputs": [],
   "source": []
  },
  {
   "cell_type": "code",
   "execution_count": null,
   "id": "95ef003f",
   "metadata": {},
   "outputs": [],
   "source": []
  },
  {
   "cell_type": "code",
   "execution_count": null,
   "id": "f5c88409",
   "metadata": {},
   "outputs": [],
   "source": []
  },
  {
   "cell_type": "code",
   "execution_count": null,
   "id": "8acbf1f0",
   "metadata": {},
   "outputs": [],
   "source": []
  },
  {
   "cell_type": "code",
   "execution_count": null,
   "id": "73076bba",
   "metadata": {},
   "outputs": [],
   "source": []
  },
  {
   "cell_type": "code",
   "execution_count": null,
   "id": "9b058e48",
   "metadata": {},
   "outputs": [],
   "source": []
  },
  {
   "cell_type": "code",
   "execution_count": null,
   "id": "d49577e1",
   "metadata": {},
   "outputs": [],
   "source": []
  },
  {
   "cell_type": "code",
   "execution_count": null,
   "id": "05bd3e44",
   "metadata": {},
   "outputs": [],
   "source": []
  },
  {
   "cell_type": "code",
   "execution_count": null,
   "id": "4e2b70ca",
   "metadata": {},
   "outputs": [],
   "source": []
  },
  {
   "cell_type": "code",
   "execution_count": null,
   "id": "35a6474e",
   "metadata": {},
   "outputs": [],
   "source": []
  },
  {
   "cell_type": "code",
   "execution_count": null,
   "id": "cd69f1d2",
   "metadata": {},
   "outputs": [],
   "source": []
  },
  {
   "cell_type": "code",
   "execution_count": null,
   "id": "3aab1df4",
   "metadata": {},
   "outputs": [],
   "source": []
  },
  {
   "cell_type": "code",
   "execution_count": null,
   "id": "9c2cffc1",
   "metadata": {},
   "outputs": [],
   "source": []
  },
  {
   "cell_type": "code",
   "execution_count": null,
   "id": "b48b8653",
   "metadata": {},
   "outputs": [],
   "source": []
  },
  {
   "cell_type": "code",
   "execution_count": null,
   "id": "969a2f51",
   "metadata": {},
   "outputs": [],
   "source": []
  },
  {
   "cell_type": "code",
   "execution_count": null,
   "id": "d69cda0d",
   "metadata": {},
   "outputs": [],
   "source": []
  },
  {
   "cell_type": "code",
   "execution_count": null,
   "id": "bb929135",
   "metadata": {},
   "outputs": [],
   "source": []
  },
  {
   "cell_type": "code",
   "execution_count": null,
   "id": "d65a844e",
   "metadata": {},
   "outputs": [],
   "source": []
  },
  {
   "cell_type": "code",
   "execution_count": null,
   "id": "302ef57d",
   "metadata": {},
   "outputs": [],
   "source": []
  },
  {
   "cell_type": "code",
   "execution_count": null,
   "id": "43f38d93",
   "metadata": {},
   "outputs": [],
   "source": []
  },
  {
   "cell_type": "code",
   "execution_count": null,
   "id": "20ba28fd",
   "metadata": {},
   "outputs": [],
   "source": []
  },
  {
   "cell_type": "code",
   "execution_count": null,
   "id": "22af9ece",
   "metadata": {},
   "outputs": [],
   "source": []
  },
  {
   "cell_type": "code",
   "execution_count": null,
   "id": "973892c9",
   "metadata": {},
   "outputs": [],
   "source": []
  },
  {
   "cell_type": "code",
   "execution_count": null,
   "id": "8005c921",
   "metadata": {},
   "outputs": [],
   "source": []
  },
  {
   "cell_type": "code",
   "execution_count": null,
   "id": "25e6433b",
   "metadata": {},
   "outputs": [],
   "source": []
  },
  {
   "cell_type": "code",
   "execution_count": null,
   "id": "d98fc024",
   "metadata": {},
   "outputs": [],
   "source": []
  },
  {
   "cell_type": "code",
   "execution_count": null,
   "id": "8309c676",
   "metadata": {},
   "outputs": [],
   "source": []
  },
  {
   "cell_type": "code",
   "execution_count": null,
   "id": "f7ad4d9c",
   "metadata": {},
   "outputs": [],
   "source": []
  }
 ],
 "metadata": {
  "kernelspec": {
   "display_name": "Python 3 (ipykernel)",
   "language": "python",
   "name": "python3"
  },
  "language_info": {
   "codemirror_mode": {
    "name": "ipython",
    "version": 3
   },
   "file_extension": ".py",
   "mimetype": "text/x-python",
   "name": "python",
   "nbconvert_exporter": "python",
   "pygments_lexer": "ipython3",
   "version": "3.9.7"
  }
 },
 "nbformat": 4,
 "nbformat_minor": 5
}
