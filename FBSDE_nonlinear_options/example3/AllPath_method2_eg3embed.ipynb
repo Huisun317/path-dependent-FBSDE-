{
 "cells": [
  {
   "cell_type": "code",
   "execution_count": 17,
   "id": "830a6718",
   "metadata": {},
   "outputs": [],
   "source": [
    "import numpy as np\n",
    "import matplotlib.pyplot as plt\n",
    "%matplotlib inline \n",
    "from scipy.stats import norm\n",
    "import time as ttt\n",
    "import iisignature as iisig\n",
    "from tqdm import *\n",
    "from einops import rearrange\n",
    "import signatory"
   ]
  },
  {
   "cell_type": "code",
   "execution_count": 6,
   "id": "90b91c89",
   "metadata": {},
   "outputs": [],
   "source": [
    "import torch\n",
    "import torch.nn as nn\n",
    "import pandas as pd "
   ]
  },
  {
   "cell_type": "raw",
   "id": "210fa833",
   "metadata": {},
   "source": [
    "device = \"cuda\" if torch.cuda.is_available() else \"cpu\"\n",
    "print(\"Using {} device\".format(device))\n"
   ]
  },
  {
   "cell_type": "code",
   "execution_count": 23,
   "id": "41004662",
   "metadata": {},
   "outputs": [],
   "source": [
    "data_type=torch.float32"
   ]
  },
  {
   "cell_type": "code",
   "execution_count": 76,
   "id": "52f3bd37",
   "metadata": {},
   "outputs": [],
   "source": [
    "x0 = 0.0 # initial condition\n",
    "sigma = 1 # volatility\n",
    "\n",
    "segs=10\n",
    "d=100\n",
    "r = 0.0 # risk free rate\n",
    "batch_size = 100 # batch size\n",
    "steps=200\n",
    "T = 1 # maturity\n",
    "dt = T/steps # mesh size\n",
    "\n",
    "dt = T/steps # mesh size\n",
    "dt_new = T/segs # new mesh after shrinkage\n",
    "level = 3 # truncation level"
   ]
  },
  {
   "cell_type": "code",
   "execution_count": 77,
   "id": "01332aa2",
   "metadata": {},
   "outputs": [],
   "source": [
    "batch_in=100\n",
    "MOMENTUM = 0.99\n",
    "EPSILON = 1e-6\n",
    "import warnings\n",
    "warnings.filterwarnings(\"ignore\")"
   ]
  },
  {
   "cell_type": "code",
   "execution_count": 78,
   "id": "cfca5b7a",
   "metadata": {},
   "outputs": [],
   "source": [
    "def create_stock(x0,r,sigma,T,steps,n_path,dW):  \n",
    "    s_vec=[];\n",
    "    w0=np.ones((n_path,1,d))*1e-6\n",
    "    dW=np.concatenate((w0,dW),axis=1) ## the first time slot is then 0\n",
    "    s_vec.append(np.ones((n_path,d))*x0)\n",
    "    for i in range(steps): \n",
    "        s_vectemp=s_vec[-1]+ r*s_vec[-1]*dt+ dW[:,i+1,:]*sigma\n",
    "        s_vec.append(s_vectemp)\n",
    "    BM_path=np.cumsum(dW,axis=1) ## find the cumulative sum\n",
    "    S_path=rearrange(np.array(s_vec), 'b c h -> c b h') \n",
    "    return BM_path, S_path\n",
    "\n",
    "def jointime(T,path): \n",
    "    n_path, steps, d=path.shape\n",
    "    dt=T/(steps-1); \n",
    "    \n",
    "    times=np.arange(0,T,dt) ## This can be taken out\n",
    "    times=np.append(times,T); \n",
    "    times_vec=np.tile(times,[1,1]); \n",
    "    times_vec=np.transpose(times_vec)\n",
    "    times_vec=np.tile(times_vec,[n_path,1,1])\n",
    "    times_vec=np.concatenate((times_vec, path),axis=2)\n",
    "    return times_vec\n",
    "\n",
    "def ComputeMultiLevelSig(s_embed, number_of_segment,level):\n",
    "    n_batch, nsteps, chanels = s_embed.shape\n",
    "    s_pathclass = signatory.Path(s_embed,level) ## Create a path class \n",
    "\n",
    "    t_vec = np.arange(0, nsteps-1, int(nsteps / 20))\n",
    "    t_vec = np.append(t_vec, nsteps-1)\n",
    "    MultiLevelSig = []\n",
    "\n",
    "    ll=torch.zeros(n_batch, 258) #iisig.sig(np.expand_dims(path[:,0,:],axis=1),depth)\n",
    "    MultiLevelSig.append(ll)\n",
    "    for i in range(len(t_vec)-1):    \n",
    "    ## Notice that we only use the signature of the concatenation of time and space.\n",
    "        MultiLevelSig.append(s_pathclass.signature(0, t_vec[i+1]+1)) ##if not\n",
    "        #MultiLevelSig.append(path_class.signature(t_vec[i],t_vec[i+1]+1))\n",
    "    MultiLevelSig=torch.stack(MultiLevelSig)  \n",
    "    MultiLevelSig=rearrange(MultiLevelSig, 'b c h -> c b h') \n",
    "    return MultiLevelSig"
   ]
  },
  {
   "cell_type": "code",
   "execution_count": 79,
   "id": "c1dafeaa",
   "metadata": {},
   "outputs": [],
   "source": [
    "def generate_samples(model,batch_in=100):\n",
    "    \"\"\"\n",
    "    Produce the signature, dW for computation, YT the terminal condition\n",
    "    x_ten, selection the path and location to be used\n",
    "    \"\"\"\n",
    "    dW=np.sqrt(dt)*np.random.normal(size=(batch_in, steps,d))\n",
    "    \n",
    "    pth2=create_stock(x0,r,sigma,T,steps,batch_in,dW)\n",
    "    BM_timePath=jointime(T,pth2[0]); \n",
    "    S_timePath=jointime(T,pth2[1]);\n",
    "    \n",
    "    ########### embed the long sequence to a lower dimension\n",
    "    BM_timePath=torch.tensor(BM_timePath,dtype=data_type)\n",
    "    S_timePath=torch.tensor(S_timePath,dtype=data_type)\n",
    "    s_embed=model.embedding(S_timePath)\n",
    "    ###########\n",
    "    \n",
    "    \n",
    "    sigs=ComputeMultiLevelSig(s_embed, 20, 3)\n",
    "    selection = np.linspace(0,steps, segs+1, dtype = np.int)\n",
    "\n",
    "    BM_seg=BM_timePath[:,selection,1:]\n",
    "    dW=BM_seg[:,1:,:]-BM_seg[:,:-1,:]\n",
    "\n",
    "    dW=torch.tensor(dW,dtype=torch.float32)\n",
    "    sigs=torch.tensor(sigs,dtype=torch.float32)\n",
    "    S_timePath=torch.tensor(S_timePath,dtype=torch.float32)\n",
    "    \n",
    "    x_ten=S_timePath[:,:,1:]\n",
    "    \n",
    "    YT=terminal_f(x_ten)\n",
    "    \n",
    "    return sigs, dW, YT, x_ten, selection[:-1]"
   ]
  },
  {
   "cell_type": "code",
   "execution_count": 80,
   "id": "edff29e7",
   "metadata": {},
   "outputs": [],
   "source": [
    "def terminal_f(x_ten):\n",
    "    res=(torch.sum(x_ten[:,:-1,:],dim=(1,2))*dt)**2\n",
    "    return res"
   ]
  },
  {
   "cell_type": "code",
   "execution_count": 81,
   "id": "b2983e50",
   "metadata": {},
   "outputs": [],
   "source": [
    "class Config(object):\n",
    "    n_layer = 4\n",
    "    batch_size = 1024\n",
    "    valid_size = 1024\n",
    "    \n",
    "    dim=258; \n",
    "    Ntime=segs; \n",
    "    delta=1/Ntime\n",
    "    sqrt_deltaT=np.sqrt(1.0/Ntime); \n",
    "    lam=1; \n",
    "\n",
    "    logging_frequency = 100\n",
    "    verbose = True\n",
    "    y_init_range = [0, 1]\n",
    "    \n",
    "    num_hiddens = [dim,64,64,1] ## 256 ,256\n",
    "    \n",
    "def get_config(name):\n",
    "    try:\n",
    "        return globals()[name]\n",
    "    except KeyError:\n",
    "        raise KeyError(\"config not defined.\")\n",
    "\n",
    "cfg=get_config('Config')"
   ]
  },
  {
   "cell_type": "code",
   "execution_count": 82,
   "id": "95679d2c",
   "metadata": {},
   "outputs": [],
   "source": [
    "class Dense(nn.Module): \n",
    "    def __init__(self,cin, cout, batch_norm=False, activate=True): \n",
    "        super(Dense,self).__init__()\n",
    "        self.cin=cin; \n",
    "        self.cout=cout; \n",
    "        self.activate=activate; \n",
    "        \n",
    "        self.linear=nn.Linear(self.cin,self.cout) #The linear layer\n",
    "        #BatchNorm1d: it requires the input to be a correct size\n",
    "        if batch_norm: \n",
    "            self.bn=nn.BatchNorm1d(cout,eps=EPSILON,momentum=MOMENTUM)\n",
    "        else: \n",
    "            self.bn=None\n",
    "      #  nn.init.normal_(self.linear.weight,std=5.0/np.sqrt(cin+cout))\n",
    "        # This is the He initialization\n",
    "        \n",
    "    def forward(self,x): \n",
    "        x=self.linear(x)\n",
    "        if self.bn is not None:\n",
    "            x=self.bn(x)\n",
    "        if self.activate:\n",
    "            x=torch.relu(x)\n",
    "        return x \n",
    "    \n",
    "class FFN(nn.Module):\n",
    "    def __init__(self, config):\n",
    "        super(FFN,self).__init__()\n",
    "        self.config=config\n",
    "        \n",
    "        self.bn=nn.BatchNorm1d(config.num_hiddens[0],eps=EPSILON,momentum=MOMENTUM) ## So there is batch norm no problem\n",
    "        # range(1,5): 1,2,3,4\n",
    "        self.layers=[Dense(config.num_hiddens[i-1],config.num_hiddens[i]) for i in range(1, len(config.num_hiddens)-1)]\n",
    "        self.layers+=[Dense(config.num_hiddens[-2], config.num_hiddens[-1],activate=False)]\n",
    "        self.layers=nn.Sequential(*self.layers)\n",
    "    \n",
    "    def forward(self,x):\n",
    "        #x=self.bn(x)\n",
    "        x=self.layers(x)\n",
    "        return x \n",
    "    \n",
    "class Lookback_PPDE_Backward(nn.Module):\n",
    "    def __init__(self,cfg): \n",
    "        super(Lookback_PPDE_Backward,self).__init__()\n",
    "        self.cfg=cfg\n",
    "        self.Ntime=self.cfg.Ntime \n",
    "        self.mList=nn.ModuleList([FFN(self.cfg) for _ in range(self.Ntime)])\n",
    "        self.embedding=signatory.Augment(in_channels=d+1,layer_sizes=(64,64,5),kernel_size=1,include_original=False,include_time=True)  \n",
    "        \n",
    "    def forward(self,batch_sig,batch_dW,batch_YT, batch_x, batch_sel): \n",
    "        Y=batch_YT\n",
    "        for i in np.arange(segs-1,-1, -1):\n",
    "            Y=Y-Y*r*T/segs-sigma*torch.sum( self.mList[i](batch_sig[:,i,:])*batch_dW[:,i,:],axis=1,keepdim=True)\n",
    "            gi=terminal_f(batch_x[:,:batch_sel[i],:])\n",
    "            Y=torch.relu(gi-Y)+Y\n",
    "        return Y"
   ]
  },
  {
   "cell_type": "code",
   "execution_count": 83,
   "id": "3fe0d5a9",
   "metadata": {},
   "outputs": [],
   "source": [
    "def loss_var(x):\n",
    "    temp=torch.var(x)\n",
    "    return temp"
   ]
  },
  {
   "cell_type": "code",
   "execution_count": 84,
   "id": "02e7db3c",
   "metadata": {},
   "outputs": [],
   "source": [
    "import torch.optim as optim\n",
    "from torch.nn import Parameter\n",
    "import math\n",
    "model_PPDE_bw=Lookback_PPDE_Backward(cfg)\n",
    "model_PPDE_bw#.to(device)\n",
    "optimizer=optim.Adam(model_PPDE_bw.parameters(),lr=1e-4)\n",
    "grad_clip=0.2\n",
    "#scheduler=torch.optim.lr_scheduler.StepLR(optimizer, step_size=80, gamma=0.1)"
   ]
  },
  {
   "cell_type": "code",
   "execution_count": 85,
   "id": "1b025ec9",
   "metadata": {},
   "outputs": [],
   "source": [
    "y0_mean=[];\n",
    "loss_vec=[];"
   ]
  },
  {
   "cell_type": "markdown",
   "id": "53f73d92",
   "metadata": {},
   "source": [
    "## 0.5823 -- 0.5784 -- 0.5862"
   ]
  },
  {
   "cell_type": "code",
   "execution_count": 86,
   "id": "9e22793f",
   "metadata": {},
   "outputs": [
    {
     "name": "stdout",
     "output_type": "stream",
     "text": [
      "Iter: 0 The mean Y0 is 33.44082 Variance is: 2360.9468\n",
      "Iter: 1 The mean Y0 is 29.324001 Variance is: 1656.1641\n",
      "Iter: 2 The mean Y0 is 35.24864 Variance is: 2311.4485\n",
      "Iter: 3 The mean Y0 is 34.609722 Variance is: 2291.8801\n",
      "Iter: 4 The mean Y0 is 33.506763 Variance is: 1882.8938\n",
      "Iter: 5 The mean Y0 is 33.069218 Variance is: 2281.0024\n",
      "Iter: 6 The mean Y0 is 34.63444 Variance is: 2277.3596\n",
      "Iter: 7 The mean Y0 is 34.180744 Variance is: 2233.4978\n",
      "Iter: 8 The mean Y0 is 34.883373 Variance is: 2544.9758\n",
      "Iter: 9 The mean Y0 is 34.090096 Variance is: 2153.5989\n",
      "Iter: 10 The mean Y0 is 33.50614 Variance is: 1976.8293\n",
      "Iter: 11 The mean Y0 is 33.981823 Variance is: 2260.2112\n",
      "Iter: 12 The mean Y0 is 33.553432 Variance is: 1959.4512\n",
      "Iter: 13 The mean Y0 is 34.742844 Variance is: 2108.5112\n",
      "Iter: 14 The mean Y0 is 33.473858 Variance is: 2058.5723\n",
      "Iter: 15 The mean Y0 is 34.97619 Variance is: 2332.2014\n",
      "Iter: 16 The mean Y0 is 33.061108 Variance is: 2072.728\n",
      "Iter: 17 The mean Y0 is 32.3152 Variance is: 1708.4336\n",
      "Iter: 18 The mean Y0 is 33.851437 Variance is: 2186.6658\n",
      "Iter: 19 The mean Y0 is 34.644093 Variance is: 2391.0095\n",
      "Iter: 20 The mean Y0 is 32.646675 Variance is: 1943.3583\n",
      "Iter: 21 The mean Y0 is 37.458973 Variance is: 2989.0527\n",
      "Iter: 22 The mean Y0 is 34.009617 Variance is: 2521.092\n",
      "Iter: 23 The mean Y0 is 32.34852 Variance is: 2022.6234\n",
      "Iter: 24 The mean Y0 is 32.363747 Variance is: 1993.1764\n",
      "Iter: 25 The mean Y0 is 35.39308 Variance is: 2567.6538\n",
      "Iter: 26 The mean Y0 is 34.94855 Variance is: 2309.18\n",
      "Iter: 27 The mean Y0 is 31.757442 Variance is: 1672.0537\n",
      "Iter: 28 The mean Y0 is 32.999027 Variance is: 1862.9613\n",
      "Iter: 29 The mean Y0 is 32.75187 Variance is: 1963.0468\n",
      "Iter: 30 The mean Y0 is 32.517525 Variance is: 2042.6083\n",
      "Iter: 31 The mean Y0 is 33.091908 Variance is: 2060.1423\n",
      "Iter: 32 The mean Y0 is 34.35131 Variance is: 2245.7646\n",
      "Iter: 33 The mean Y0 is 33.30268 Variance is: 2145.5896\n",
      "Iter: 34 The mean Y0 is 30.535025 Variance is: 1508.8196\n",
      "Iter: 35 The mean Y0 is 31.155067 Variance is: 1863.321\n",
      "Iter: 36 The mean Y0 is 37.029495 Variance is: 2374.598\n",
      "Iter: 37 The mean Y0 is 35.493732 Variance is: 2525.3108\n",
      "Iter: 38 The mean Y0 is 34.48961 Variance is: 2186.9324\n",
      "Iter: 39 The mean Y0 is 35.486195 Variance is: 2484.0713\n",
      "Iter: 40 The mean Y0 is 34.247772 Variance is: 2091.636\n",
      "Iter: 41 The mean Y0 is 33.520752 Variance is: 2002.1935\n",
      "Iter: 42 The mean Y0 is 34.92097 Variance is: 2417.4866\n",
      "Iter: 43 The mean Y0 is 31.358896 Variance is: 2129.8643\n",
      "Iter: 44 The mean Y0 is 32.87913 Variance is: 2011.6165\n",
      "Iter: 45 The mean Y0 is 34.53656 Variance is: 2110.2446\n",
      "Iter: 46 The mean Y0 is 35.650448 Variance is: 2328.9102\n",
      "Iter: 47 The mean Y0 is 31.645792 Variance is: 1776.832\n",
      "Iter: 48 The mean Y0 is 35.664806 Variance is: 2016.1519\n",
      "Iter: 49 The mean Y0 is 31.185064 Variance is: 2134.2356\n",
      "Iter: 50 The mean Y0 is 34.22184 Variance is: 2272.893\n",
      "Iter: 51 The mean Y0 is 33.847298 Variance is: 2028.7701\n",
      "Iter: 52 The mean Y0 is 33.199047 Variance is: 2066.8193\n",
      "Iter: 53 The mean Y0 is 31.667421 Variance is: 1915.0834\n",
      "Iter: 54 The mean Y0 is 33.05382 Variance is: 2172.798\n",
      "Iter: 55 The mean Y0 is 32.61386 Variance is: 1968.045\n",
      "Iter: 56 The mean Y0 is 34.256706 Variance is: 2589.4883\n",
      "Iter: 57 The mean Y0 is 33.368515 Variance is: 2447.3418\n",
      "Iter: 58 The mean Y0 is 31.95178 Variance is: 2168.9185\n",
      "Iter: 59 The mean Y0 is 35.27228 Variance is: 2252.0732\n",
      "Iter: 60 The mean Y0 is 33.392456 Variance is: 2110.3013\n",
      "Iter: 61 The mean Y0 is 32.992645 Variance is: 1974.5066\n",
      "Iter: 62 The mean Y0 is 34.42438 Variance is: 2326.7512\n",
      "Iter: 63 The mean Y0 is 32.66759 Variance is: 1942.2683\n",
      "Iter: 64 The mean Y0 is 30.152767 Variance is: 1661.879\n",
      "Iter: 65 The mean Y0 is 35.264557 Variance is: 2646.0408\n",
      "Iter: 66 The mean Y0 is 35.19896 Variance is: 2524.7344\n",
      "Iter: 67 The mean Y0 is 32.888603 Variance is: 1805.9049\n",
      "Iter: 68 The mean Y0 is 33.072056 Variance is: 2411.4329\n",
      "Iter: 69 The mean Y0 is 33.749783 Variance is: 2099.053\n",
      "Iter: 70 The mean Y0 is 33.707027 Variance is: 2004.7089\n",
      "Iter: 71 The mean Y0 is 34.10128 Variance is: 2149.304\n",
      "Iter: 72 The mean Y0 is 37.249733 Variance is: 2533.6248\n",
      "Iter: 73 The mean Y0 is 31.977177 Variance is: 2045.0544\n",
      "Iter: 74 The mean Y0 is 31.433868 Variance is: 1780.265\n",
      "Iter: 75 The mean Y0 is 35.53836 Variance is: 2507.785\n",
      "Iter: 76 The mean Y0 is 34.660866 Variance is: 3009.4514\n",
      "Iter: 77 The mean Y0 is 33.26909 Variance is: 2126.0608\n",
      "Iter: 78 The mean Y0 is 30.802668 Variance is: 1656.2875\n",
      "Iter: 79 The mean Y0 is 29.545765 Variance is: 1668.2834\n",
      "Iter: 80 The mean Y0 is 33.55798 Variance is: 2270.9927\n",
      "Iter: 81 The mean Y0 is 30.52985 Variance is: 1779.4364\n",
      "Iter: 82 The mean Y0 is 31.63768 Variance is: 1588.9814\n",
      "Iter: 83 The mean Y0 is 33.42244 Variance is: 2138.5693\n",
      "Iter: 84 The mean Y0 is 32.63437 Variance is: 2054.4443\n",
      "Iter: 85 The mean Y0 is 32.096413 Variance is: 1889.3379\n",
      "Iter: 86 The mean Y0 is 36.146156 Variance is: 2823.3064\n",
      "Iter: 87 The mean Y0 is 33.25717 Variance is: 2080.0898\n",
      "Iter: 88 The mean Y0 is 35.758244 Variance is: 2570.2527\n",
      "Iter: 89 The mean Y0 is 31.5564 Variance is: 1953.506\n",
      "Iter: 90 The mean Y0 is 31.826958 Variance is: 1828.1683\n",
      "Iter: 91 The mean Y0 is 34.58007 Variance is: 2416.0312\n",
      "Iter: 92 The mean Y0 is 32.564995 Variance is: 1947.1101\n",
      "Iter: 93 The mean Y0 is 33.00856 Variance is: 1968.8241\n",
      "Iter: 94 The mean Y0 is 35.878353 Variance is: 2348.4019\n",
      "Iter: 95 The mean Y0 is 35.85242 Variance is: 2926.3616\n",
      "Iter: 96 The mean Y0 is 33.29857 Variance is: 2321.4922\n",
      "Iter: 97 The mean Y0 is 33.659863 Variance is: 2403.6543\n",
      "Iter: 98 The mean Y0 is 32.77402 Variance is: 1922.6588\n",
      "Iter: 99 The mean Y0 is 32.049847 Variance is: 1982.5532\n",
      "Iter: 100 The mean Y0 is 34.12821 Variance is: 2224.792\n",
      "Iter: 101 The mean Y0 is 34.023388 Variance is: 2734.4624\n",
      "Iter: 102 The mean Y0 is 34.39573 Variance is: 2444.115\n",
      "Iter: 103 The mean Y0 is 30.877216 Variance is: 1791.5145\n",
      "Iter: 104 The mean Y0 is 34.477135 Variance is: 2194.863\n",
      "Iter: 105 The mean Y0 is 33.209473 Variance is: 2029.0165\n",
      "Iter: 106 The mean Y0 is 33.719456 Variance is: 2325.6807\n",
      "Iter: 107 The mean Y0 is 33.23572 Variance is: 2385.2144\n",
      "Iter: 108 The mean Y0 is 34.05701 Variance is: 2093.4294\n",
      "Iter: 109 The mean Y0 is 33.65812 Variance is: 1983.7727\n",
      "Iter: 110 The mean Y0 is 36.173172 Variance is: 2414.7224\n",
      "Iter: 111 The mean Y0 is 32.98803 Variance is: 1994.1476\n",
      "Iter: 112 The mean Y0 is 32.54035 Variance is: 1731.416\n",
      "Iter: 113 The mean Y0 is 33.231434 Variance is: 2391.903\n",
      "Iter: 114 The mean Y0 is 34.947975 Variance is: 2214.495\n",
      "Iter: 115 The mean Y0 is 33.655987 Variance is: 2302.0833\n",
      "Iter: 116 The mean Y0 is 34.341534 Variance is: 2350.1992\n",
      "Iter: 117 The mean Y0 is 34.41899 Variance is: 2356.8252\n",
      "Iter: 118 The mean Y0 is 31.44591 Variance is: 1620.9788\n",
      "Iter: 119 The mean Y0 is 33.484 Variance is: 2709.1973\n",
      "Iter: 120 The mean Y0 is 33.710735 Variance is: 2277.4192\n",
      "Iter: 121 The mean Y0 is 36.09781 Variance is: 2661.1226\n",
      "Iter: 122 The mean Y0 is 35.902973 Variance is: 2315.3381\n",
      "Iter: 123 The mean Y0 is 32.11201 Variance is: 1840.0914\n",
      "Iter: 124 The mean Y0 is 31.831259 Variance is: 1906.0421\n",
      "Iter: 125 The mean Y0 is 35.262505 Variance is: 2394.4895\n",
      "Iter: 126 The mean Y0 is 33.093845 Variance is: 1994.3066\n",
      "Iter: 127 The mean Y0 is 35.67874 Variance is: 2421.0981\n",
      "Iter: 128 The mean Y0 is 35.34361 Variance is: 2041.8953\n",
      "Iter: 129 The mean Y0 is 36.317333 Variance is: 2667.0947\n",
      "Iter: 130 The mean Y0 is 33.95264 Variance is: 2392.563\n",
      "Iter: 131 The mean Y0 is 33.572674 Variance is: 1950.9159\n",
      "Iter: 132 The mean Y0 is 35.14774 Variance is: 2549.8438\n",
      "Iter: 133 The mean Y0 is 33.500423 Variance is: 2174.357\n",
      "Iter: 134 The mean Y0 is 32.235474 Variance is: 2096.945\n",
      "Iter: 135 The mean Y0 is 32.51405 Variance is: 1943.079\n",
      "Iter: 136 The mean Y0 is 34.21451 Variance is: 1941.5526\n",
      "Iter: 137 The mean Y0 is 33.778194 Variance is: 2486.856\n",
      "Iter: 138 The mean Y0 is 34.638157 Variance is: 2160.8892\n",
      "Iter: 139 The mean Y0 is 34.52299 Variance is: 2262.8696\n"
     ]
    }
   ],
   "source": [
    "for i in range(140):\n",
    "    batch_sig, batch_dw, batch_y,batch_x, batch_sel = generate_samples(model_PPDE_bw,batch_in=1000)\n",
    "\n",
    "    x_temp=model_PPDE_bw(batch_sig,batch_dw,batch_y,batch_x, batch_sel)\n",
    "    loss_temp=loss_var(x_temp)\n",
    "\n",
    "    optimizer.zero_grad()\n",
    "    loss_temp.backward()\n",
    "    optimizer.step()\n",
    "#   scheduler.step()\n",
    "    y0_val=x_temp.mean().cpu().detach().numpy()\n",
    "    loss_val=loss_temp.cpu().detach().numpy()\n",
    "    \n",
    "    y0_mean.append(y0_val)\n",
    "    loss_vec.append(loss_val)\n",
    "    if grad_clip: \n",
    "        nn.utils.clip_grad_value_(model_PPDE_bw.parameters(), grad_clip)\n",
    "    \n",
    "    print(\"Iter:\", i, 'The mean Y0 is', y0_val , 'Variance is:' ,loss_val)"
   ]
  },
  {
   "cell_type": "code",
   "execution_count": 89,
   "id": "2469ddad",
   "metadata": {},
   "outputs": [
    {
     "data": {
      "text/plain": [
       "33.50804646809896"
      ]
     },
     "execution_count": 89,
     "metadata": {},
     "output_type": "execute_result"
    }
   ],
   "source": [
    "df=pd.DataFrame()\n",
    "df['y_pred']=y0_mean\n",
    "df['loss_var']=loss_vec\n",
    "\n",
    "df_temp=df[41:]\n",
    "lw=df_temp.loss_var.mean()-2.0*df_temp.loss_var.std()\n",
    "up=df_temp.loss_var.mean()+2.0*df_temp.loss_var.std()\n",
    "df1=df_temp[df_temp.loss_var>=lw]\n",
    "df1=df1[df1.loss_var<=up]\n",
    "df1.y_pred.mean()"
   ]
  },
  {
   "cell_type": "code",
   "execution_count": 90,
   "id": "b8cc06fc",
   "metadata": {},
   "outputs": [
    {
     "data": {
      "text/plain": [
       "0.005341928235792452"
      ]
     },
     "execution_count": 90,
     "metadata": {},
     "output_type": "execute_result"
    }
   ],
   "source": [
    "(df1.y_pred.mean()-33.33)/33.33"
   ]
  },
  {
   "cell_type": "code",
   "execution_count": null,
   "id": "4b44d88a",
   "metadata": {},
   "outputs": [],
   "source": []
  },
  {
   "cell_type": "code",
   "execution_count": null,
   "id": "5695e9dc",
   "metadata": {},
   "outputs": [],
   "source": []
  },
  {
   "cell_type": "code",
   "execution_count": null,
   "id": "60df52d7",
   "metadata": {},
   "outputs": [],
   "source": []
  },
  {
   "cell_type": "code",
   "execution_count": null,
   "id": "566fa365",
   "metadata": {},
   "outputs": [],
   "source": []
  },
  {
   "cell_type": "code",
   "execution_count": null,
   "id": "08124d43",
   "metadata": {},
   "outputs": [],
   "source": []
  },
  {
   "cell_type": "code",
   "execution_count": null,
   "id": "23c31303",
   "metadata": {},
   "outputs": [],
   "source": []
  },
  {
   "cell_type": "code",
   "execution_count": null,
   "id": "531d034c",
   "metadata": {},
   "outputs": [],
   "source": []
  },
  {
   "cell_type": "code",
   "execution_count": null,
   "id": "fe2d469f",
   "metadata": {},
   "outputs": [],
   "source": []
  },
  {
   "cell_type": "code",
   "execution_count": null,
   "id": "827b906a",
   "metadata": {},
   "outputs": [],
   "source": []
  },
  {
   "cell_type": "code",
   "execution_count": null,
   "id": "a694610c",
   "metadata": {},
   "outputs": [],
   "source": []
  },
  {
   "cell_type": "code",
   "execution_count": null,
   "id": "bca5ad22",
   "metadata": {},
   "outputs": [],
   "source": []
  },
  {
   "cell_type": "code",
   "execution_count": null,
   "id": "8b076847",
   "metadata": {},
   "outputs": [],
   "source": []
  },
  {
   "cell_type": "code",
   "execution_count": null,
   "id": "eed0c82a",
   "metadata": {},
   "outputs": [],
   "source": []
  },
  {
   "cell_type": "code",
   "execution_count": null,
   "id": "8b58347a",
   "metadata": {},
   "outputs": [],
   "source": []
  },
  {
   "cell_type": "code",
   "execution_count": null,
   "id": "45057508",
   "metadata": {},
   "outputs": [],
   "source": []
  },
  {
   "cell_type": "code",
   "execution_count": null,
   "id": "35f89192",
   "metadata": {},
   "outputs": [],
   "source": []
  },
  {
   "cell_type": "code",
   "execution_count": null,
   "id": "645aed04",
   "metadata": {},
   "outputs": [],
   "source": []
  },
  {
   "cell_type": "code",
   "execution_count": null,
   "id": "494ddfa9",
   "metadata": {},
   "outputs": [],
   "source": []
  },
  {
   "cell_type": "code",
   "execution_count": null,
   "id": "cbb7adad",
   "metadata": {},
   "outputs": [],
   "source": []
  },
  {
   "cell_type": "code",
   "execution_count": null,
   "id": "68c9b3fa",
   "metadata": {},
   "outputs": [],
   "source": []
  },
  {
   "cell_type": "code",
   "execution_count": null,
   "id": "81fea0f6",
   "metadata": {},
   "outputs": [],
   "source": []
  },
  {
   "cell_type": "code",
   "execution_count": null,
   "id": "2decf7af",
   "metadata": {},
   "outputs": [],
   "source": []
  },
  {
   "cell_type": "code",
   "execution_count": null,
   "id": "10ec9a5a",
   "metadata": {},
   "outputs": [],
   "source": []
  },
  {
   "cell_type": "code",
   "execution_count": null,
   "id": "98c2d772",
   "metadata": {},
   "outputs": [],
   "source": []
  },
  {
   "cell_type": "code",
   "execution_count": null,
   "id": "6942b228",
   "metadata": {},
   "outputs": [],
   "source": []
  },
  {
   "cell_type": "code",
   "execution_count": null,
   "id": "fc875889",
   "metadata": {},
   "outputs": [],
   "source": []
  },
  {
   "cell_type": "code",
   "execution_count": null,
   "id": "b179873f",
   "metadata": {},
   "outputs": [],
   "source": []
  },
  {
   "cell_type": "code",
   "execution_count": null,
   "id": "2a57dc94",
   "metadata": {},
   "outputs": [],
   "source": []
  },
  {
   "cell_type": "code",
   "execution_count": null,
   "id": "b9f401dd",
   "metadata": {},
   "outputs": [],
   "source": []
  },
  {
   "cell_type": "code",
   "execution_count": null,
   "id": "39f61f85",
   "metadata": {},
   "outputs": [],
   "source": []
  },
  {
   "cell_type": "code",
   "execution_count": null,
   "id": "e241bec4",
   "metadata": {},
   "outputs": [],
   "source": []
  },
  {
   "cell_type": "code",
   "execution_count": null,
   "id": "2092f970",
   "metadata": {},
   "outputs": [],
   "source": []
  },
  {
   "cell_type": "code",
   "execution_count": null,
   "id": "6f411e05",
   "metadata": {},
   "outputs": [],
   "source": []
  },
  {
   "cell_type": "code",
   "execution_count": null,
   "id": "09a4793b",
   "metadata": {},
   "outputs": [],
   "source": []
  },
  {
   "cell_type": "code",
   "execution_count": null,
   "id": "95ef003f",
   "metadata": {},
   "outputs": [],
   "source": []
  },
  {
   "cell_type": "code",
   "execution_count": null,
   "id": "f5c88409",
   "metadata": {},
   "outputs": [],
   "source": []
  },
  {
   "cell_type": "code",
   "execution_count": null,
   "id": "8acbf1f0",
   "metadata": {},
   "outputs": [],
   "source": []
  },
  {
   "cell_type": "code",
   "execution_count": null,
   "id": "73076bba",
   "metadata": {},
   "outputs": [],
   "source": []
  },
  {
   "cell_type": "code",
   "execution_count": null,
   "id": "9b058e48",
   "metadata": {},
   "outputs": [],
   "source": []
  },
  {
   "cell_type": "code",
   "execution_count": null,
   "id": "d49577e1",
   "metadata": {},
   "outputs": [],
   "source": []
  },
  {
   "cell_type": "code",
   "execution_count": null,
   "id": "05bd3e44",
   "metadata": {},
   "outputs": [],
   "source": []
  },
  {
   "cell_type": "code",
   "execution_count": null,
   "id": "4e2b70ca",
   "metadata": {},
   "outputs": [],
   "source": []
  },
  {
   "cell_type": "code",
   "execution_count": null,
   "id": "35a6474e",
   "metadata": {},
   "outputs": [],
   "source": []
  },
  {
   "cell_type": "code",
   "execution_count": null,
   "id": "cd69f1d2",
   "metadata": {},
   "outputs": [],
   "source": []
  },
  {
   "cell_type": "code",
   "execution_count": null,
   "id": "3aab1df4",
   "metadata": {},
   "outputs": [],
   "source": []
  },
  {
   "cell_type": "code",
   "execution_count": null,
   "id": "9c2cffc1",
   "metadata": {},
   "outputs": [],
   "source": []
  },
  {
   "cell_type": "code",
   "execution_count": null,
   "id": "b48b8653",
   "metadata": {},
   "outputs": [],
   "source": []
  },
  {
   "cell_type": "code",
   "execution_count": null,
   "id": "969a2f51",
   "metadata": {},
   "outputs": [],
   "source": []
  },
  {
   "cell_type": "code",
   "execution_count": null,
   "id": "d69cda0d",
   "metadata": {},
   "outputs": [],
   "source": []
  },
  {
   "cell_type": "code",
   "execution_count": null,
   "id": "bb929135",
   "metadata": {},
   "outputs": [],
   "source": []
  },
  {
   "cell_type": "code",
   "execution_count": null,
   "id": "d65a844e",
   "metadata": {},
   "outputs": [],
   "source": []
  },
  {
   "cell_type": "code",
   "execution_count": null,
   "id": "302ef57d",
   "metadata": {},
   "outputs": [],
   "source": []
  },
  {
   "cell_type": "code",
   "execution_count": null,
   "id": "43f38d93",
   "metadata": {},
   "outputs": [],
   "source": []
  },
  {
   "cell_type": "code",
   "execution_count": null,
   "id": "20ba28fd",
   "metadata": {},
   "outputs": [],
   "source": []
  },
  {
   "cell_type": "code",
   "execution_count": null,
   "id": "22af9ece",
   "metadata": {},
   "outputs": [],
   "source": []
  },
  {
   "cell_type": "code",
   "execution_count": null,
   "id": "973892c9",
   "metadata": {},
   "outputs": [],
   "source": []
  },
  {
   "cell_type": "code",
   "execution_count": null,
   "id": "8005c921",
   "metadata": {},
   "outputs": [],
   "source": []
  },
  {
   "cell_type": "code",
   "execution_count": null,
   "id": "25e6433b",
   "metadata": {},
   "outputs": [],
   "source": []
  },
  {
   "cell_type": "code",
   "execution_count": null,
   "id": "d98fc024",
   "metadata": {},
   "outputs": [],
   "source": []
  },
  {
   "cell_type": "code",
   "execution_count": null,
   "id": "8309c676",
   "metadata": {},
   "outputs": [],
   "source": []
  },
  {
   "cell_type": "code",
   "execution_count": null,
   "id": "f7ad4d9c",
   "metadata": {},
   "outputs": [],
   "source": []
  }
 ],
 "metadata": {
  "kernelspec": {
   "display_name": "Python 3 (ipykernel)",
   "language": "python",
   "name": "python3"
  },
  "language_info": {
   "codemirror_mode": {
    "name": "ipython",
    "version": 3
   },
   "file_extension": ".py",
   "mimetype": "text/x-python",
   "name": "python",
   "nbconvert_exporter": "python",
   "pygments_lexer": "ipython3",
   "version": "3.9.7"
  }
 },
 "nbformat": 4,
 "nbformat_minor": 5
}
