{
 "cells": [
  {
   "cell_type": "code",
   "execution_count": 50,
   "id": "830a6718",
   "metadata": {},
   "outputs": [],
   "source": [
    "import numpy as np\n",
    "import matplotlib.pyplot as plt\n",
    "%matplotlib inline \n",
    "from scipy.stats import norm\n",
    "import time as ttt\n",
    "import iisignature as iisig\n",
    "from tqdm import *\n",
    "from einops import rearrange"
   ]
  },
  {
   "cell_type": "code",
   "execution_count": 54,
   "id": "90b91c89",
   "metadata": {},
   "outputs": [],
   "source": [
    "import torch\n",
    "import torch.nn as nn\n",
    "import pandas as pd "
   ]
  },
  {
   "cell_type": "raw",
   "id": "210fa833",
   "metadata": {},
   "source": [
    "device = \"cuda\" if torch.cuda.is_available() else \"cpu\"\n",
    "print(\"Using {} device\".format(device))\n",
    "data_type=torch.float32"
   ]
  },
  {
   "cell_type": "code",
   "execution_count": 55,
   "id": "52f3bd37",
   "metadata": {},
   "outputs": [],
   "source": [
    "x0 = 0.0 # initial condition\n",
    "sigma = 1 # volatility\n",
    "\n",
    "segs=5\n",
    "d=20\n",
    "r = 0.0 # risk free rate\n",
    "batch_size = 100 # batch size\n",
    "steps=200\n",
    "T = 1 # maturity\n",
    "dt = T/steps # mesh size\n",
    "\n",
    "dt = T/steps # mesh size\n",
    "dt_new = T/segs # new mesh after shrinkage\n",
    "level = 3 # truncation level"
   ]
  },
  {
   "cell_type": "code",
   "execution_count": 56,
   "id": "01332aa2",
   "metadata": {},
   "outputs": [],
   "source": [
    "batch_in=100\n",
    "MOMENTUM = 0.99\n",
    "EPSILON = 1e-6\n",
    "import warnings\n",
    "warnings.filterwarnings(\"ignore\")"
   ]
  },
  {
   "cell_type": "code",
   "execution_count": 57,
   "id": "cfca5b7a",
   "metadata": {},
   "outputs": [],
   "source": [
    "def create_stock(x0,r,sigma,T,steps,n_path,dW):  \n",
    "    s_vec=[];\n",
    "    w0=np.ones((n_path,1,d))*1e-6\n",
    "    dW=np.concatenate((w0,dW),axis=1) ## the first time slot is then 0\n",
    "    s_vec.append(np.ones((n_path,d))*x0)\n",
    "    for i in range(steps): \n",
    "        s_vectemp=s_vec[-1]+ r*s_vec[-1]*dt+ dW[:,i+1,:]*sigma\n",
    "        s_vec.append(s_vectemp)\n",
    "    BM_path=np.cumsum(dW,axis=1) ## find the cumulative sum\n",
    "    S_path=rearrange(np.array(s_vec), 'b c h -> c b h') \n",
    "    return BM_path, S_path\n",
    "\n",
    "def jointime(T,path): \n",
    "    n_path, steps, d=path.shape\n",
    "    dt=T/(steps-1); \n",
    "    \n",
    "    times=np.arange(0,T,dt) ## This can be taken out\n",
    "    times=np.append(times,T); \n",
    "    times_vec=np.tile(times,[1,1]); \n",
    "    times_vec=np.transpose(times_vec)\n",
    "    times_vec=np.tile(times_vec,[n_path,1,1])\n",
    "    times_vec=np.concatenate((times_vec, path),axis=2)\n",
    "    return times_vec\n",
    "\n",
    "def ComputeMultiLevelSig(path, number_of_segment, depth,log_sig=False):\n",
    "    n_batch, nsteps, chanels = path.shape\n",
    "    t_vec = np.arange(0, nsteps-1, int(nsteps / number_of_segment))\n",
    "    t_vec = np.append(t_vec, nsteps-1)\n",
    "    MultiLevelSig = []\n",
    "    s=iisig.prepare(d+1,depth)\n",
    "    \n",
    "    if log_sig: \n",
    "        ll=iisig.logsig(np.expand_dims(path[:,0,:],axis=1),s)\n",
    "        MultiLevelSig.append(ll)\n",
    "        for i in range(len(t_vec)-1):    \n",
    "        ## Notice that we only use the signature of the concatenation of time and space.\n",
    "            MultiLevelSig.append(iisig.logsig(path[:,0:t_vec[i+1]+1,:],s)) ##if not\n",
    "        MultiLevelSig=np.stack(MultiLevelSig)  \n",
    "        MultiLevelSig=rearrange(MultiLevelSig, 'b c h -> c b h') \n",
    "    else: \n",
    "        ll=iisig.sig(np.expand_dims(path[:,0,:],axis=1),depth)\n",
    "        MultiLevelSig.append(ll)\n",
    "        for i in range(len(t_vec)-1):    \n",
    "        ## Notice that we only use the signature of the concatenation of time and space.\n",
    "            MultiLevelSig.append(iisig.sig(path[:,0:t_vec[i+1]+1,:],depth)) ##if not\n",
    "            #MultiLevelSig.append(path_class.signature(t_vec[i],t_vec[i+1]+1))\n",
    "        MultiLevelSig=np.stack(MultiLevelSig)  \n",
    "        MultiLevelSig=rearrange(MultiLevelSig, 'b c h -> c b h') \n",
    "        \n",
    "    return MultiLevelSig"
   ]
  },
  {
   "cell_type": "code",
   "execution_count": 58,
   "id": "c1dafeaa",
   "metadata": {},
   "outputs": [],
   "source": [
    "def generate_samples(batch_in=100):\n",
    "    \"\"\"\n",
    "    Produce the signature, dW for computation, YT the terminal condition\n",
    "    x_ten, selection the path and location to be used\n",
    "    \"\"\"\n",
    "    dW=np.sqrt(dt)*np.random.normal(size=(batch_in, steps,d))\n",
    "    \n",
    "    pth2=create_stock(x0,r,sigma,T,steps,batch_in,dW)\n",
    "    BM_timePath=jointime(T,pth2[0]); \n",
    "    S_timePath=jointime(T,pth2[1]);\n",
    "    \n",
    "    sigs=ComputeMultiLevelSig(S_timePath, segs, 3,True)\n",
    "    selection = np.linspace(0,steps, segs+1, dtype = np.int)\n",
    "\n",
    "    BM_seg=BM_timePath[:,selection,1:]\n",
    "    dW=BM_seg[:,1:,:]-BM_seg[:,:-1,:]\n",
    "\n",
    "    dW=torch.tensor(dW,dtype=torch.float32)\n",
    "    sigs=torch.tensor(sigs,dtype=torch.float32)\n",
    "    S_timePath=torch.tensor(S_timePath,dtype=torch.float32)\n",
    "    \n",
    "    x_ten=S_timePath[:,:,1:]\n",
    "    \n",
    "    YT=terminal_f(x_ten)\n",
    "    \n",
    "    return sigs, dW, YT, x_ten, selection[:-1]"
   ]
  },
  {
   "cell_type": "code",
   "execution_count": 59,
   "id": "edff29e7",
   "metadata": {},
   "outputs": [],
   "source": [
    "def terminal_f(x_ten):\n",
    "    res=(torch.sum(x_ten[:,:-1,:],dim=(1,2))*dt)**2\n",
    "    return res"
   ]
  },
  {
   "cell_type": "code",
   "execution_count": 60,
   "id": "b2983e50",
   "metadata": {},
   "outputs": [],
   "source": [
    "class Config(object):\n",
    "    n_layer = 4\n",
    "    batch_size = 1024\n",
    "    valid_size = 1024\n",
    "    \n",
    "    dim=3311; \n",
    "    Ntime=segs; \n",
    "    delta=1/Ntime\n",
    "    sqrt_deltaT=np.sqrt(1.0/Ntime); \n",
    "    lam=1; \n",
    "\n",
    "    logging_frequency = 100\n",
    "    verbose = True\n",
    "    y_init_range = [0, 1]\n",
    "    \n",
    "    num_hiddens = [dim,64,64,1] ## 256 ,256\n",
    "    \n",
    "def get_config(name):\n",
    "    try:\n",
    "        return globals()[name]\n",
    "    except KeyError:\n",
    "        raise KeyError(\"config not defined.\")\n",
    "\n",
    "cfg=get_config('Config')"
   ]
  },
  {
   "cell_type": "code",
   "execution_count": 61,
   "id": "95679d2c",
   "metadata": {},
   "outputs": [],
   "source": [
    "class Dense(nn.Module): \n",
    "    def __init__(self,cin, cout, batch_norm=False, activate=True): \n",
    "        super(Dense,self).__init__()\n",
    "        self.cin=cin; \n",
    "        self.cout=cout; \n",
    "        self.activate=activate; \n",
    "        \n",
    "        self.linear=nn.Linear(self.cin,self.cout) #The linear layer\n",
    "        #BatchNorm1d: it requires the input to be a correct size\n",
    "        if batch_norm: \n",
    "            self.bn=nn.BatchNorm1d(cout,eps=EPSILON,momentum=MOMENTUM)\n",
    "        else: \n",
    "            self.bn=None\n",
    "      #  nn.init.normal_(self.linear.weight,std=5.0/np.sqrt(cin+cout))\n",
    "        # This is the He initialization\n",
    "        \n",
    "    def forward(self,x): \n",
    "        x=self.linear(x)\n",
    "        if self.bn is not None:\n",
    "            x=self.bn(x)\n",
    "        if self.activate:\n",
    "            x=torch.relu(x)\n",
    "        return x \n",
    "    \n",
    "class FFN(nn.Module):\n",
    "    def __init__(self, config):\n",
    "        super(FFN,self).__init__()\n",
    "        self.config=config\n",
    "        \n",
    "        self.bn=nn.BatchNorm1d(config.num_hiddens[0],eps=EPSILON,momentum=MOMENTUM) ## So there is batch norm no problem\n",
    "        # range(1,5): 1,2,3,4\n",
    "        self.layers=[Dense(config.num_hiddens[i-1],config.num_hiddens[i]) for i in range(1, len(config.num_hiddens)-1)]\n",
    "        self.layers+=[Dense(config.num_hiddens[-2], config.num_hiddens[-1],activate=False)]\n",
    "        self.layers=nn.Sequential(*self.layers)\n",
    "    \n",
    "    def forward(self,x):\n",
    "        #x=self.bn(x)\n",
    "        x=self.layers(x)\n",
    "        return x \n",
    "    \n",
    "class Lookback_PPDE_Backward(nn.Module):\n",
    "    def __init__(self,cfg): \n",
    "        super(Lookback_PPDE_Backward,self).__init__()\n",
    "        self.cfg=cfg\n",
    "        self.Ntime=self.cfg.Ntime \n",
    "        self.mList=nn.ModuleList([FFN(self.cfg) for _ in range(self.Ntime)])\n",
    "        \n",
    "    def forward(self,batch_sig,batch_dW,batch_YT, batch_x, batch_sel): \n",
    "        Y=batch_YT\n",
    "        for i in np.arange(segs-1,-1, -1):\n",
    "            Y=Y-Y*r*T/segs-sigma*torch.sum( self.mList[i](batch_sig[:,i,:])*batch_dW[:,i,:],axis=1,keepdim=True)\n",
    "            gi=terminal_f(batch_x[:,:batch_sel[i],:])\n",
    "            Y=torch.relu(gi-Y)+Y\n",
    "        return Y"
   ]
  },
  {
   "cell_type": "code",
   "execution_count": 62,
   "id": "3fe0d5a9",
   "metadata": {},
   "outputs": [],
   "source": [
    "def loss_var(x):\n",
    "    temp=torch.var(x)\n",
    "    return temp"
   ]
  },
  {
   "cell_type": "code",
   "execution_count": 69,
   "id": "02e7db3c",
   "metadata": {},
   "outputs": [],
   "source": [
    "import torch.optim as optim\n",
    "from torch.nn import Parameter\n",
    "import math\n",
    "model_PPDE_bw=Lookback_PPDE_Backward(cfg)\n",
    "model_PPDE_bw#.to(device)\n",
    "optimizer=optim.Adam(model_PPDE_bw.parameters(),lr=1e-4)\n",
    "grad_clip=0.2\n",
    "#scheduler=torch.optim.lr_scheduler.StepLR(optimizer, step_size=80, gamma=0.1)"
   ]
  },
  {
   "cell_type": "code",
   "execution_count": 70,
   "id": "1b025ec9",
   "metadata": {},
   "outputs": [],
   "source": [
    "y0_mean=[];\n",
    "loss_vec=[];"
   ]
  },
  {
   "cell_type": "markdown",
   "id": "53f73d92",
   "metadata": {},
   "source": [
    "## 0.5823 -- 0.5784 -- 0.5862"
   ]
  },
  {
   "cell_type": "code",
   "execution_count": 71,
   "id": "9e22793f",
   "metadata": {},
   "outputs": [
    {
     "name": "stdout",
     "output_type": "stream",
     "text": [
      "Iter: 0 The mean Y0 is 6.80053 Variance is: 82.21599\n",
      "Iter: 1 The mean Y0 is 6.672508 Variance is: 85.75062\n",
      "Iter: 2 The mean Y0 is 6.933611 Variance is: 86.79514\n",
      "Iter: 3 The mean Y0 is 6.6699257 Variance is: 86.46731\n",
      "Iter: 4 The mean Y0 is 6.232517 Variance is: 75.3734\n",
      "Iter: 5 The mean Y0 is 6.3225865 Variance is: 69.89292\n",
      "Iter: 6 The mean Y0 is 6.386982 Variance is: 83.58656\n",
      "Iter: 7 The mean Y0 is 6.94478 Variance is: 96.37202\n",
      "Iter: 8 The mean Y0 is 6.664698 Variance is: 88.417244\n",
      "Iter: 9 The mean Y0 is 6.722926 Variance is: 86.04497\n",
      "Iter: 10 The mean Y0 is 6.797552 Variance is: 71.551216\n",
      "Iter: 11 The mean Y0 is 6.3591647 Variance is: 70.60002\n",
      "Iter: 12 The mean Y0 is 7.045901 Variance is: 99.01353\n",
      "Iter: 13 The mean Y0 is 6.544446 Variance is: 84.23046\n",
      "Iter: 14 The mean Y0 is 6.989865 Variance is: 95.8579\n",
      "Iter: 15 The mean Y0 is 6.6292787 Variance is: 88.07944\n",
      "Iter: 16 The mean Y0 is 6.618153 Variance is: 79.13193\n",
      "Iter: 17 The mean Y0 is 6.7711997 Variance is: 85.96969\n",
      "Iter: 18 The mean Y0 is 6.5154557 Variance is: 85.799545\n",
      "Iter: 19 The mean Y0 is 6.7535396 Variance is: 91.6199\n",
      "Iter: 20 The mean Y0 is 6.4856076 Variance is: 88.799255\n",
      "Iter: 21 The mean Y0 is 6.1522827 Variance is: 70.94783\n",
      "Iter: 22 The mean Y0 is 6.77537 Variance is: 83.5562\n",
      "Iter: 23 The mean Y0 is 6.9114966 Variance is: 100.99507\n",
      "Iter: 24 The mean Y0 is 6.445521 Variance is: 78.20187\n",
      "Iter: 25 The mean Y0 is 6.8356967 Variance is: 100.26282\n",
      "Iter: 26 The mean Y0 is 6.123094 Variance is: 73.62343\n",
      "Iter: 27 The mean Y0 is 6.153866 Variance is: 69.51206\n",
      "Iter: 28 The mean Y0 is 6.8864403 Variance is: 76.46934\n",
      "Iter: 29 The mean Y0 is 6.9709406 Variance is: 82.96063\n",
      "Iter: 30 The mean Y0 is 6.446677 Variance is: 89.238\n",
      "Iter: 31 The mean Y0 is 6.184882 Variance is: 67.30074\n",
      "Iter: 32 The mean Y0 is 6.9618707 Variance is: 95.79015\n",
      "Iter: 33 The mean Y0 is 6.806481 Variance is: 94.397446\n",
      "Iter: 34 The mean Y0 is 6.66244 Variance is: 70.44921\n",
      "Iter: 35 The mean Y0 is 6.4283357 Variance is: 85.455345\n",
      "Iter: 36 The mean Y0 is 6.798239 Variance is: 98.91716\n",
      "Iter: 37 The mean Y0 is 6.237693 Variance is: 78.10961\n",
      "Iter: 38 The mean Y0 is 6.667569 Variance is: 78.17524\n",
      "Iter: 39 The mean Y0 is 6.419392 Variance is: 85.88783\n",
      "Iter: 40 The mean Y0 is 6.989023 Variance is: 103.098274\n",
      "Iter: 41 The mean Y0 is 7.053813 Variance is: 99.83501\n",
      "Iter: 42 The mean Y0 is 6.712209 Variance is: 87.91374\n",
      "Iter: 43 The mean Y0 is 6.959376 Variance is: 94.33707\n",
      "Iter: 44 The mean Y0 is 7.67107 Variance is: 113.68819\n",
      "Iter: 45 The mean Y0 is 6.519064 Variance is: 98.75634\n",
      "Iter: 46 The mean Y0 is 6.757488 Variance is: 81.84282\n",
      "Iter: 47 The mean Y0 is 6.772224 Variance is: 84.17217\n",
      "Iter: 48 The mean Y0 is 6.7101426 Variance is: 93.56618\n",
      "Iter: 49 The mean Y0 is 7.366129 Variance is: 119.62048\n",
      "Iter: 50 The mean Y0 is 6.5328374 Variance is: 82.23697\n",
      "Iter: 51 The mean Y0 is 6.762599 Variance is: 94.22094\n",
      "Iter: 52 The mean Y0 is 6.905108 Variance is: 100.446625\n",
      "Iter: 53 The mean Y0 is 6.7959933 Variance is: 93.21957\n",
      "Iter: 54 The mean Y0 is 6.49079 Variance is: 74.122696\n",
      "Iter: 55 The mean Y0 is 6.010431 Variance is: 74.613884\n",
      "Iter: 56 The mean Y0 is 6.725796 Variance is: 78.96112\n",
      "Iter: 57 The mean Y0 is 6.731355 Variance is: 83.17801\n",
      "Iter: 58 The mean Y0 is 6.7810125 Variance is: 87.2776\n",
      "Iter: 59 The mean Y0 is 6.9203906 Variance is: 89.53669\n",
      "Iter: 60 The mean Y0 is 6.981336 Variance is: 81.18723\n",
      "Iter: 61 The mean Y0 is 7.302715 Variance is: 97.23302\n",
      "Iter: 62 The mean Y0 is 6.6928496 Variance is: 82.020325\n",
      "Iter: 63 The mean Y0 is 6.719374 Variance is: 80.17369\n",
      "Iter: 64 The mean Y0 is 6.586581 Variance is: 83.67065\n",
      "Iter: 65 The mean Y0 is 6.795165 Variance is: 87.68119\n",
      "Iter: 66 The mean Y0 is 6.250948 Variance is: 73.14563\n",
      "Iter: 67 The mean Y0 is 7.266052 Variance is: 105.04348\n",
      "Iter: 68 The mean Y0 is 6.554512 Variance is: 85.357\n",
      "Iter: 69 The mean Y0 is 6.670786 Variance is: 84.22657\n",
      "Iter: 70 The mean Y0 is 6.934825 Variance is: 85.95919\n",
      "Iter: 71 The mean Y0 is 6.5916023 Variance is: 90.02089\n",
      "Iter: 72 The mean Y0 is 6.9631953 Variance is: 89.22171\n",
      "Iter: 73 The mean Y0 is 7.357772 Variance is: 96.62793\n",
      "Iter: 74 The mean Y0 is 6.5920095 Variance is: 90.95976\n",
      "Iter: 75 The mean Y0 is 7.311017 Variance is: 112.59934\n",
      "Iter: 76 The mean Y0 is 6.940935 Variance is: 104.23974\n",
      "Iter: 77 The mean Y0 is 6.3117237 Variance is: 64.69305\n",
      "Iter: 78 The mean Y0 is 6.5399876 Variance is: 93.02699\n",
      "Iter: 79 The mean Y0 is 6.915611 Variance is: 89.87643\n",
      "Iter: 80 The mean Y0 is 6.8482547 Variance is: 92.87006\n",
      "Iter: 81 The mean Y0 is 6.599489 Variance is: 86.56648\n",
      "Iter: 82 The mean Y0 is 6.805397 Variance is: 86.94494\n",
      "Iter: 83 The mean Y0 is 6.8016076 Variance is: 94.900024\n",
      "Iter: 84 The mean Y0 is 6.379886 Variance is: 73.98081\n",
      "Iter: 85 The mean Y0 is 7.0083995 Variance is: 88.913895\n",
      "Iter: 86 The mean Y0 is 6.475517 Variance is: 75.81557\n",
      "Iter: 87 The mean Y0 is 7.290119 Variance is: 95.76657\n",
      "Iter: 88 The mean Y0 is 6.718853 Variance is: 77.24133\n",
      "Iter: 89 The mean Y0 is 7.0003357 Variance is: 95.98459\n",
      "Iter: 90 The mean Y0 is 6.415617 Variance is: 71.840836\n",
      "Iter: 91 The mean Y0 is 6.787169 Variance is: 82.853294\n",
      "Iter: 92 The mean Y0 is 7.193731 Variance is: 107.75915\n",
      "Iter: 93 The mean Y0 is 6.190432 Variance is: 87.149635\n",
      "Iter: 94 The mean Y0 is 6.5300093 Variance is: 85.68101\n",
      "Iter: 95 The mean Y0 is 7.159619 Variance is: 104.27364\n",
      "Iter: 96 The mean Y0 is 6.9681344 Variance is: 97.47902\n",
      "Iter: 97 The mean Y0 is 6.3616104 Variance is: 82.28526\n",
      "Iter: 98 The mean Y0 is 6.776341 Variance is: 78.991936\n",
      "Iter: 99 The mean Y0 is 6.3575115 Variance is: 74.43049\n"
     ]
    }
   ],
   "source": [
    "for i in range(100):\n",
    "    batch_sig, batch_dw, batch_y,batch_x, batch_sel = generate_samples(batch_in=1000)\n",
    "\n",
    "    x_temp=model_PPDE_bw(batch_sig,batch_dw,batch_y,batch_x, batch_sel)\n",
    "    loss_temp=loss_var(x_temp)\n",
    "\n",
    "    optimizer.zero_grad()\n",
    "    loss_temp.backward()\n",
    "    optimizer.step()\n",
    "#   scheduler.step()\n",
    "    y0_val=x_temp.mean().cpu().detach().numpy()\n",
    "    loss_val=loss_temp.cpu().detach().numpy()\n",
    "    \n",
    "    y0_mean.append(y0_val)\n",
    "    loss_vec.append(loss_val)\n",
    "    if grad_clip: \n",
    "        nn.utils.clip_grad_value_(model_PPDE_bw.parameters(), grad_clip)\n",
    "    \n",
    "    print(\"Iter:\", i, 'The mean Y0 is', y0_val , 'Variance is:' ,loss_val)"
   ]
  },
  {
   "cell_type": "code",
   "execution_count": 74,
   "id": "2469ddad",
   "metadata": {},
   "outputs": [
    {
     "data": {
      "text/plain": [
       "6.706291647518382"
      ]
     },
     "execution_count": 74,
     "metadata": {},
     "output_type": "execute_result"
    }
   ],
   "source": [
    "df=pd.DataFrame()\n",
    "df['y_pred']=y0_mean\n",
    "df['loss_var']=loss_vec\n",
    "\n",
    "df_temp=df[11:]\n",
    "lw=df_temp.loss_var.mean()-2.0*df_temp.loss_var.std()\n",
    "up=df_temp.loss_var.mean()+2.0*df_temp.loss_var.std()\n",
    "df1=df_temp[df_temp.loss_var>=lw]\n",
    "df1=df1[df1.loss_var<=up]\n",
    "df1.y_pred.mean()"
   ]
  },
  {
   "cell_type": "code",
   "execution_count": null,
   "id": "b8cc06fc",
   "metadata": {},
   "outputs": [],
   "source": []
  },
  {
   "cell_type": "code",
   "execution_count": null,
   "id": "4b44d88a",
   "metadata": {},
   "outputs": [],
   "source": []
  },
  {
   "cell_type": "code",
   "execution_count": null,
   "id": "5695e9dc",
   "metadata": {},
   "outputs": [],
   "source": []
  },
  {
   "cell_type": "code",
   "execution_count": null,
   "id": "60df52d7",
   "metadata": {},
   "outputs": [],
   "source": []
  },
  {
   "cell_type": "code",
   "execution_count": null,
   "id": "566fa365",
   "metadata": {},
   "outputs": [],
   "source": []
  },
  {
   "cell_type": "code",
   "execution_count": null,
   "id": "08124d43",
   "metadata": {},
   "outputs": [],
   "source": []
  },
  {
   "cell_type": "code",
   "execution_count": null,
   "id": "23c31303",
   "metadata": {},
   "outputs": [],
   "source": []
  },
  {
   "cell_type": "code",
   "execution_count": null,
   "id": "531d034c",
   "metadata": {},
   "outputs": [],
   "source": []
  },
  {
   "cell_type": "code",
   "execution_count": null,
   "id": "fe2d469f",
   "metadata": {},
   "outputs": [],
   "source": []
  },
  {
   "cell_type": "code",
   "execution_count": null,
   "id": "827b906a",
   "metadata": {},
   "outputs": [],
   "source": []
  },
  {
   "cell_type": "code",
   "execution_count": null,
   "id": "a694610c",
   "metadata": {},
   "outputs": [],
   "source": []
  },
  {
   "cell_type": "code",
   "execution_count": null,
   "id": "bca5ad22",
   "metadata": {},
   "outputs": [],
   "source": []
  },
  {
   "cell_type": "code",
   "execution_count": null,
   "id": "8b076847",
   "metadata": {},
   "outputs": [],
   "source": []
  },
  {
   "cell_type": "code",
   "execution_count": null,
   "id": "eed0c82a",
   "metadata": {},
   "outputs": [],
   "source": []
  },
  {
   "cell_type": "code",
   "execution_count": null,
   "id": "8b58347a",
   "metadata": {},
   "outputs": [],
   "source": []
  },
  {
   "cell_type": "code",
   "execution_count": null,
   "id": "45057508",
   "metadata": {},
   "outputs": [],
   "source": []
  },
  {
   "cell_type": "code",
   "execution_count": null,
   "id": "35f89192",
   "metadata": {},
   "outputs": [],
   "source": []
  },
  {
   "cell_type": "code",
   "execution_count": null,
   "id": "645aed04",
   "metadata": {},
   "outputs": [],
   "source": []
  },
  {
   "cell_type": "code",
   "execution_count": null,
   "id": "494ddfa9",
   "metadata": {},
   "outputs": [],
   "source": []
  },
  {
   "cell_type": "code",
   "execution_count": null,
   "id": "cbb7adad",
   "metadata": {},
   "outputs": [],
   "source": []
  },
  {
   "cell_type": "code",
   "execution_count": null,
   "id": "68c9b3fa",
   "metadata": {},
   "outputs": [],
   "source": []
  },
  {
   "cell_type": "code",
   "execution_count": null,
   "id": "81fea0f6",
   "metadata": {},
   "outputs": [],
   "source": []
  },
  {
   "cell_type": "code",
   "execution_count": null,
   "id": "2decf7af",
   "metadata": {},
   "outputs": [],
   "source": []
  },
  {
   "cell_type": "code",
   "execution_count": null,
   "id": "10ec9a5a",
   "metadata": {},
   "outputs": [],
   "source": []
  },
  {
   "cell_type": "code",
   "execution_count": null,
   "id": "98c2d772",
   "metadata": {},
   "outputs": [],
   "source": []
  },
  {
   "cell_type": "code",
   "execution_count": null,
   "id": "6942b228",
   "metadata": {},
   "outputs": [],
   "source": []
  },
  {
   "cell_type": "code",
   "execution_count": null,
   "id": "fc875889",
   "metadata": {},
   "outputs": [],
   "source": []
  },
  {
   "cell_type": "code",
   "execution_count": null,
   "id": "b179873f",
   "metadata": {},
   "outputs": [],
   "source": []
  },
  {
   "cell_type": "code",
   "execution_count": null,
   "id": "2a57dc94",
   "metadata": {},
   "outputs": [],
   "source": []
  },
  {
   "cell_type": "code",
   "execution_count": null,
   "id": "b9f401dd",
   "metadata": {},
   "outputs": [],
   "source": []
  },
  {
   "cell_type": "code",
   "execution_count": null,
   "id": "39f61f85",
   "metadata": {},
   "outputs": [],
   "source": []
  },
  {
   "cell_type": "code",
   "execution_count": null,
   "id": "e241bec4",
   "metadata": {},
   "outputs": [],
   "source": []
  },
  {
   "cell_type": "code",
   "execution_count": null,
   "id": "2092f970",
   "metadata": {},
   "outputs": [],
   "source": []
  },
  {
   "cell_type": "code",
   "execution_count": null,
   "id": "6f411e05",
   "metadata": {},
   "outputs": [],
   "source": []
  },
  {
   "cell_type": "code",
   "execution_count": null,
   "id": "09a4793b",
   "metadata": {},
   "outputs": [],
   "source": []
  },
  {
   "cell_type": "code",
   "execution_count": null,
   "id": "95ef003f",
   "metadata": {},
   "outputs": [],
   "source": []
  },
  {
   "cell_type": "code",
   "execution_count": null,
   "id": "f5c88409",
   "metadata": {},
   "outputs": [],
   "source": []
  },
  {
   "cell_type": "code",
   "execution_count": null,
   "id": "8acbf1f0",
   "metadata": {},
   "outputs": [],
   "source": []
  },
  {
   "cell_type": "code",
   "execution_count": null,
   "id": "73076bba",
   "metadata": {},
   "outputs": [],
   "source": []
  },
  {
   "cell_type": "code",
   "execution_count": null,
   "id": "9b058e48",
   "metadata": {},
   "outputs": [],
   "source": []
  },
  {
   "cell_type": "code",
   "execution_count": null,
   "id": "d49577e1",
   "metadata": {},
   "outputs": [],
   "source": []
  },
  {
   "cell_type": "code",
   "execution_count": null,
   "id": "05bd3e44",
   "metadata": {},
   "outputs": [],
   "source": []
  },
  {
   "cell_type": "code",
   "execution_count": null,
   "id": "4e2b70ca",
   "metadata": {},
   "outputs": [],
   "source": []
  },
  {
   "cell_type": "code",
   "execution_count": null,
   "id": "35a6474e",
   "metadata": {},
   "outputs": [],
   "source": []
  },
  {
   "cell_type": "code",
   "execution_count": null,
   "id": "cd69f1d2",
   "metadata": {},
   "outputs": [],
   "source": []
  },
  {
   "cell_type": "code",
   "execution_count": null,
   "id": "3aab1df4",
   "metadata": {},
   "outputs": [],
   "source": []
  },
  {
   "cell_type": "code",
   "execution_count": null,
   "id": "9c2cffc1",
   "metadata": {},
   "outputs": [],
   "source": []
  },
  {
   "cell_type": "code",
   "execution_count": null,
   "id": "b48b8653",
   "metadata": {},
   "outputs": [],
   "source": []
  },
  {
   "cell_type": "code",
   "execution_count": null,
   "id": "969a2f51",
   "metadata": {},
   "outputs": [],
   "source": []
  },
  {
   "cell_type": "code",
   "execution_count": null,
   "id": "d69cda0d",
   "metadata": {},
   "outputs": [],
   "source": []
  },
  {
   "cell_type": "code",
   "execution_count": null,
   "id": "bb929135",
   "metadata": {},
   "outputs": [],
   "source": []
  },
  {
   "cell_type": "code",
   "execution_count": null,
   "id": "d65a844e",
   "metadata": {},
   "outputs": [],
   "source": []
  },
  {
   "cell_type": "code",
   "execution_count": null,
   "id": "302ef57d",
   "metadata": {},
   "outputs": [],
   "source": []
  },
  {
   "cell_type": "code",
   "execution_count": null,
   "id": "43f38d93",
   "metadata": {},
   "outputs": [],
   "source": []
  },
  {
   "cell_type": "code",
   "execution_count": null,
   "id": "20ba28fd",
   "metadata": {},
   "outputs": [],
   "source": []
  },
  {
   "cell_type": "code",
   "execution_count": null,
   "id": "22af9ece",
   "metadata": {},
   "outputs": [],
   "source": []
  },
  {
   "cell_type": "code",
   "execution_count": null,
   "id": "973892c9",
   "metadata": {},
   "outputs": [],
   "source": []
  },
  {
   "cell_type": "code",
   "execution_count": null,
   "id": "8005c921",
   "metadata": {},
   "outputs": [],
   "source": []
  },
  {
   "cell_type": "code",
   "execution_count": null,
   "id": "25e6433b",
   "metadata": {},
   "outputs": [],
   "source": []
  },
  {
   "cell_type": "code",
   "execution_count": null,
   "id": "d98fc024",
   "metadata": {},
   "outputs": [],
   "source": []
  },
  {
   "cell_type": "code",
   "execution_count": null,
   "id": "8309c676",
   "metadata": {},
   "outputs": [],
   "source": []
  },
  {
   "cell_type": "code",
   "execution_count": null,
   "id": "f7ad4d9c",
   "metadata": {},
   "outputs": [],
   "source": []
  }
 ],
 "metadata": {
  "kernelspec": {
   "display_name": "Python 3 (ipykernel)",
   "language": "python",
   "name": "python3"
  },
  "language_info": {
   "codemirror_mode": {
    "name": "ipython",
    "version": 3
   },
   "file_extension": ".py",
   "mimetype": "text/x-python",
   "name": "python",
   "nbconvert_exporter": "python",
   "pygments_lexer": "ipython3",
   "version": "3.9.7"
  }
 },
 "nbformat": 4,
 "nbformat_minor": 5
}
